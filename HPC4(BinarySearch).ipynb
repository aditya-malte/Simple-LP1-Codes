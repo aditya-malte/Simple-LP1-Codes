{
  "nbformat": 4,
  "nbformat_minor": 0,
  "metadata": {
    "colab": {
      "name": "MPI_Binary_Search.ipynb",
      "provenance": [],
      "collapsed_sections": [],
      "include_colab_link": true
    },
    "kernelspec": {
      "name": "python3",
      "display_name": "Python 3"
    },
    "accelerator": "GPU"
  },
  "cells": [
    {
      "cell_type": "markdown",
      "metadata": {
        "id": "view-in-github",
        "colab_type": "text"
      },
      "source": [
        "<a href=\"https://colab.research.google.com/github/aditya-malte/Simple-LP1-Codes/blob/master/HPC4(BinarySearch).ipynb\" target=\"_parent\"><img src=\"https://colab.research.google.com/assets/colab-badge.svg\" alt=\"Open In Colab\"/></a>"
      ]
    },
    {
      "cell_type": "code",
      "metadata": {
        "id": "F7jEgl1h34eb",
        "colab_type": "code",
        "colab": {}
      },
      "source": [
        "code = \"\"\"\n",
        "#include <mpi.h> \n",
        "#include <stdio.h> \n",
        "\n",
        "// size of array \n",
        "#define n 12 \n",
        "\n",
        "// value to be found\n",
        "#define key 55\n",
        "\n",
        "//input array\n",
        "int a[] = { 1, 2, 3, 4, 5, 6, 7, 9, 13, 55, 56 ,90}; \n",
        "\n",
        "//temporary local array\n",
        "int a2[1000];\n",
        "\t\t\n",
        "\n",
        "int binarySearch(int* array, int start, int end, int value)\t//start and end index as input\n",
        "{\n",
        "\tint mid;\n",
        "\twhile(start<=end)\n",
        "\t{\n",
        "\t\tmid = (start+end)/2;\n",
        "\t\tif(array[mid]==value)\n",
        "\t\t\treturn mid;\n",
        "\t\telse if(array[mid]>value)\n",
        "\t\t\tend = mid-1;\n",
        "\t\telse\n",
        "\t\t\tstart = mid+1;\n",
        "\t}\n",
        "\treturn -1;\n",
        "}\n",
        "\n",
        "int main(int argc, char* argv[]) \n",
        "{ \n",
        "\n",
        "\tint pid, np, \n",
        "\t\telements_per_process, \n",
        "\t\tn_elements_received; \n",
        "\t// np -> no. of processes \n",
        "\t// pid -> process id \n",
        "\n",
        "\tMPI_Status status; \n",
        "\n",
        "\t// Creation of parallel processes \n",
        "\tMPI_Init(&argc, &argv); \n",
        "\n",
        "\t// find out process ID, \n",
        "\t// and how many processes were started \n",
        "\tMPI_Comm_rank(MPI_COMM_WORLD, &pid); \n",
        "\tMPI_Comm_size(MPI_COMM_WORLD, &np); \n",
        "\n",
        "\t// master process \n",
        "\tif (pid == 0) \n",
        "\t{ \n",
        "\t\tint index, i; \n",
        "\t\telements_per_process = n / np; \n",
        "\t\t\n",
        "\t\t// check if more than 1 processes are run \n",
        "\t\tif (np > 1)\n",
        "\t\t{ \n",
        "\t\t\t// distributes the portion of array \n",
        "\t\t\t// to child processes to \n",
        "      for (i = 1; i < np - 1; i++) \n",
        "\t\t\t{ \n",
        "\t\t\t\tindex = i * elements_per_process; \n",
        "\n",
        "\t\t\t\t//send element count\n",
        "\t\t\t\tMPI_Send(&elements_per_process, \n",
        "\t\t\t\t\t\t1, MPI_INT, i, 0, \n",
        "\t\t\t\t\t\tMPI_COMM_WORLD); \n",
        "\t\t\t\t\t\n",
        "\t\t\t\t//send subarray\n",
        "\t\t\t\tMPI_Send(&a[index], \n",
        "\t\t\t\t\t\telements_per_process, \n",
        "\t\t\t\t\t\tMPI_INT, i, 0, \n",
        "\t\t\t\t\t\tMPI_COMM_WORLD); \n",
        "\t\t\t} \n",
        "\n",
        "\t\t\t// last process adds remaining elements \n",
        "\t\t\tindex = i * elements_per_process; \n",
        "\t\t\tint elements_left = n - index; \n",
        "\n",
        "\t\t\tMPI_Send(&elements_left, \n",
        "\t\t\t\t\t1, MPI_INT, \n",
        "\t\t\t\t\ti, 0, \n",
        "\t\t\t\t\tMPI_COMM_WORLD); \n",
        "\n",
        "\t\t\tMPI_Send(&a[index], \n",
        "\t\t\t\t\telements_left, \n",
        "\t\t\t\t\tMPI_INT, i, 0, \n",
        "\t\t\t\t\tMPI_COMM_WORLD); \n",
        "\t\t} \n",
        "\n",
        "\n",
        "\t\t// master process performs own searching \n",
        "\t\tint position = binarySearch(a, 0, elements_per_process-1, key);\n",
        "\t\t\n",
        "\t\tif(position!=-1)\n",
        "\t\t\tprintf(\"Found at:%d\", position);\n",
        "\n",
        "\t\tint tmp; \n",
        "\t\t//check positions found by others\n",
        "\t\t//-1 if not found in subarray\n",
        "\t\tfor (i = 1; i < np; i++)\n",
        "\t\t{ \n",
        "\t\t\tMPI_Recv(&tmp, 1, MPI_INT, \n",
        "\t\t\t\t\tMPI_ANY_SOURCE, 0, \n",
        "\t\t\t\t\tMPI_COMM_WORLD, \n",
        "\t\t\t\t\t&status); \n",
        "\t\t\tint sender = status.MPI_SOURCE; \n",
        "\t\t\t\n",
        "\t\t\tif(tmp!=-1)\n",
        "\t\t\t\tprintf(\"Found at:%d by %d\", (sender*elements_per_process)+tmp, sender);\n",
        "\t\t} \n",
        "\n",
        "\n",
        "\t} \n",
        "\n",
        "\t// slave processes \n",
        "\telse\n",
        "\t{ \n",
        "\t\t\n",
        "\t\t//get number of elements\n",
        "\t\tMPI_Recv(&n_elements_received, \n",
        "\t\t\t\t1, MPI_INT, 0, 0, \n",
        "\t\t\t\tMPI_COMM_WORLD, \n",
        "\t\t\t\t&status); \n",
        "\t\t\n",
        "\t\t// stores the received array segment \n",
        "\t\t// in local array a2 \n",
        "\t\tMPI_Recv(&a2, n_elements_received, \n",
        "\t\t\t\tMPI_INT, 0, 0, \n",
        "\t\t\t\tMPI_COMM_WORLD, \n",
        "\t\t\t\t&status); \n",
        "\t\t\n",
        "\t\t\n",
        "\t\t\n",
        "\t\t// calculates position \n",
        "\t\tint position = binarySearch(a2, 0, n_elements_received-1, key);\n",
        "\t\t\n",
        "\t\t// sends the position to the root process \n",
        "\t\tMPI_Send(&position, 1, MPI_INT, \n",
        "\t\t\t\t0, 0, MPI_COMM_WORLD); \n",
        "\t} \n",
        "\n",
        "\t// cleans up all MPI state before exit of process \n",
        "\tMPI_Finalize(); \n",
        "\n",
        "\treturn 0; \n",
        "} \n",
        "\"\"\""
      ],
      "execution_count": 0,
      "outputs": []
    },
    {
      "cell_type": "code",
      "metadata": {
        "id": "9IyLislm4zYZ",
        "colab_type": "code",
        "colab": {}
      },
      "source": [
        "text_file = open(\"code.c\", \"w\")\n",
        "text_file.write(code)\n",
        "text_file.close()"
      ],
      "execution_count": 0,
      "outputs": []
    },
    {
      "cell_type": "code",
      "metadata": {
        "id": "qSFjsSEG4tDH",
        "colab_type": "code",
        "colab": {}
      },
      "source": [
        "!mpicc code.c"
      ],
      "execution_count": 0,
      "outputs": []
    },
    {
      "cell_type": "code",
      "metadata": {
        "id": "7L6NClHt5Iu7",
        "colab_type": "code",
        "outputId": "5ec63df8-4ed4-4bf7-8362-22cdd5d8c2f4",
        "colab": {
          "base_uri": "https://localhost:8080/",
          "height": 34
        }
      },
      "source": [
        "!mpirun --allow-run-as-root -np 4 ./a.out "
      ],
      "execution_count": 4,
      "outputs": [
        {
          "output_type": "stream",
          "text": [
            "Found at:9 by 3"
          ],
          "name": "stdout"
        }
      ]
    }
  ]
}