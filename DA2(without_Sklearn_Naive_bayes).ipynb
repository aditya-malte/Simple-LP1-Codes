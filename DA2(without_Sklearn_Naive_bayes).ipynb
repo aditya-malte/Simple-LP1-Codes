{
  "nbformat": 4,
  "nbformat_minor": 0,
  "metadata": {
    "colab": {
      "name": "DA2(without Sklearn Naive bayes).ipynb",
      "provenance": [],
      "collapsed_sections": [],
      "toc_visible": true,
      "include_colab_link": true
    },
    "kernelspec": {
      "name": "python3",
      "display_name": "Python 3"
    }
  },
  "cells": [
    {
      "cell_type": "markdown",
      "metadata": {
        "id": "view-in-github",
        "colab_type": "text"
      },
      "source": [
        "<a href=\"https://colab.research.google.com/github/aditya-malte/Simple-LP1-Codes/blob/master/DA2(without_Sklearn_Naive_bayes).ipynb\" target=\"_parent\"><img src=\"https://colab.research.google.com/assets/colab-badge.svg\" alt=\"Open In Colab\"/></a>"
      ]
    },
    {
      "cell_type": "markdown",
      "metadata": {
        "id": "Clwvj16FGltc",
        "colab_type": "text"
      },
      "source": [
        "## Download the Pima Dataset from kagggle:\n",
        "https://www.kaggle.com/uciml/pima-indians-diabetes-database/download"
      ]
    },
    {
      "cell_type": "code",
      "metadata": {
        "id": "_JxlybaBEzTs",
        "colab_type": "code",
        "colab": {}
      },
      "source": [
        "import pandas as pd\n",
        "from sklearn.model_selection import train_test_split\n",
        "from sklearn.metrics import confusion_matrix"
      ],
      "execution_count": 0,
      "outputs": []
    },
    {
      "cell_type": "code",
      "metadata": {
        "id": "bjOQAgAvG_ZJ",
        "colab_type": "code",
        "colab": {}
      },
      "source": [
        "data = pd.read_csv(\"diabetes.csv\")"
      ],
      "execution_count": 0,
      "outputs": []
    },
    {
      "cell_type": "code",
      "metadata": {
        "id": "VPNkxuP_PxZz",
        "colab_type": "code",
        "colab": {}
      },
      "source": [
        "columns = data.columns"
      ],
      "execution_count": 0,
      "outputs": []
    },
    {
      "cell_type": "code",
      "metadata": {
        "id": "nfNPgDloP3hb",
        "colab_type": "code",
        "colab": {}
      },
      "source": [
        "columns = [col_name for col_name in columns if not col_name==\"Outcome\"]"
      ],
      "execution_count": 0,
      "outputs": []
    },
    {
      "cell_type": "code",
      "metadata": {
        "id": "5mtlJMa6HE83",
        "colab_type": "code",
        "colab": {
          "base_uri": "https://localhost:8080/",
          "height": 204
        },
        "outputId": "6fe224ef-3bc9-4c9e-d0a9-9f40a07bc021"
      },
      "source": [
        "data.head()"
      ],
      "execution_count": 5,
      "outputs": [
        {
          "output_type": "execute_result",
          "data": {
            "text/html": [
              "<div>\n",
              "<style scoped>\n",
              "    .dataframe tbody tr th:only-of-type {\n",
              "        vertical-align: middle;\n",
              "    }\n",
              "\n",
              "    .dataframe tbody tr th {\n",
              "        vertical-align: top;\n",
              "    }\n",
              "\n",
              "    .dataframe thead th {\n",
              "        text-align: right;\n",
              "    }\n",
              "</style>\n",
              "<table border=\"1\" class=\"dataframe\">\n",
              "  <thead>\n",
              "    <tr style=\"text-align: right;\">\n",
              "      <th></th>\n",
              "      <th>Pregnancies</th>\n",
              "      <th>Glucose</th>\n",
              "      <th>BloodPressure</th>\n",
              "      <th>SkinThickness</th>\n",
              "      <th>Insulin</th>\n",
              "      <th>BMI</th>\n",
              "      <th>DiabetesPedigreeFunction</th>\n",
              "      <th>Age</th>\n",
              "      <th>Outcome</th>\n",
              "    </tr>\n",
              "  </thead>\n",
              "  <tbody>\n",
              "    <tr>\n",
              "      <th>0</th>\n",
              "      <td>6</td>\n",
              "      <td>148</td>\n",
              "      <td>72</td>\n",
              "      <td>35</td>\n",
              "      <td>0</td>\n",
              "      <td>33.6</td>\n",
              "      <td>0.627</td>\n",
              "      <td>50</td>\n",
              "      <td>1</td>\n",
              "    </tr>\n",
              "    <tr>\n",
              "      <th>1</th>\n",
              "      <td>1</td>\n",
              "      <td>85</td>\n",
              "      <td>66</td>\n",
              "      <td>29</td>\n",
              "      <td>0</td>\n",
              "      <td>26.6</td>\n",
              "      <td>0.351</td>\n",
              "      <td>31</td>\n",
              "      <td>0</td>\n",
              "    </tr>\n",
              "    <tr>\n",
              "      <th>2</th>\n",
              "      <td>8</td>\n",
              "      <td>183</td>\n",
              "      <td>64</td>\n",
              "      <td>0</td>\n",
              "      <td>0</td>\n",
              "      <td>23.3</td>\n",
              "      <td>0.672</td>\n",
              "      <td>32</td>\n",
              "      <td>1</td>\n",
              "    </tr>\n",
              "    <tr>\n",
              "      <th>3</th>\n",
              "      <td>1</td>\n",
              "      <td>89</td>\n",
              "      <td>66</td>\n",
              "      <td>23</td>\n",
              "      <td>94</td>\n",
              "      <td>28.1</td>\n",
              "      <td>0.167</td>\n",
              "      <td>21</td>\n",
              "      <td>0</td>\n",
              "    </tr>\n",
              "    <tr>\n",
              "      <th>4</th>\n",
              "      <td>0</td>\n",
              "      <td>137</td>\n",
              "      <td>40</td>\n",
              "      <td>35</td>\n",
              "      <td>168</td>\n",
              "      <td>43.1</td>\n",
              "      <td>2.288</td>\n",
              "      <td>33</td>\n",
              "      <td>1</td>\n",
              "    </tr>\n",
              "  </tbody>\n",
              "</table>\n",
              "</div>"
            ],
            "text/plain": [
              "   Pregnancies  Glucose  BloodPressure  ...  DiabetesPedigreeFunction  Age  Outcome\n",
              "0            6      148             72  ...                     0.627   50        1\n",
              "1            1       85             66  ...                     0.351   31        0\n",
              "2            8      183             64  ...                     0.672   32        1\n",
              "3            1       89             66  ...                     0.167   21        0\n",
              "4            0      137             40  ...                     2.288   33        1\n",
              "\n",
              "[5 rows x 9 columns]"
            ]
          },
          "metadata": {
            "tags": []
          },
          "execution_count": 5
        }
      ]
    },
    {
      "cell_type": "code",
      "metadata": {
        "id": "aLNss8UoJCVG",
        "colab_type": "code",
        "colab": {
          "base_uri": "https://localhost:8080/",
          "height": 286
        },
        "outputId": "d9b1cd21-a0ef-4c28-f9dd-32db66758c4e"
      },
      "source": [
        "data[\"Outcome\"].hist()"
      ],
      "execution_count": 6,
      "outputs": [
        {
          "output_type": "execute_result",
          "data": {
            "text/plain": [
              "<matplotlib.axes._subplots.AxesSubplot at 0x7f618c313390>"
            ]
          },
          "metadata": {
            "tags": []
          },
          "execution_count": 6
        },
        {
          "output_type": "display_data",
          "data": {
            "image/png": "[encoded data removed]",
            "text/plain": [
              "<Figure size 432x288 with 1 Axes>"
            ]
          },
          "metadata": {
            "tags": []
          }
        }
      ]
    },
    {
      "cell_type": "code",
      "metadata": {
        "id": "aqCBNXMGHG4I",
        "colab_type": "code",
        "colab": {}
      },
      "source": [
        "y = data[\"Outcome\"]\n",
        "X = data.drop([\"Outcome\"], axis=1)"
      ],
      "execution_count": 0,
      "outputs": []
    },
    {
      "cell_type": "code",
      "metadata": {
        "id": "a0Pb_NybOrwa",
        "colab_type": "code",
        "colab": {
          "base_uri": "https://localhost:8080/",
          "height": 204
        },
        "outputId": "0633f27a-f0c3-426d-fe64-95263725ff64"
      },
      "source": [
        "X.head()"
      ],
      "execution_count": 8,
      "outputs": [
        {
          "output_type": "execute_result",
          "data": {
            "text/html": [
              "<div>\n",
              "<style scoped>\n",
              "    .dataframe tbody tr th:only-of-type {\n",
              "        vertical-align: middle;\n",
              "    }\n",
              "\n",
              "    .dataframe tbody tr th {\n",
              "        vertical-align: top;\n",
              "    }\n",
              "\n",
              "    .dataframe thead th {\n",
              "        text-align: right;\n",
              "    }\n",
              "</style>\n",
              "<table border=\"1\" class=\"dataframe\">\n",
              "  <thead>\n",
              "    <tr style=\"text-align: right;\">\n",
              "      <th></th>\n",
              "      <th>Pregnancies</th>\n",
              "      <th>Glucose</th>\n",
              "      <th>BloodPressure</th>\n",
              "      <th>SkinThickness</th>\n",
              "      <th>Insulin</th>\n",
              "      <th>BMI</th>\n",
              "      <th>DiabetesPedigreeFunction</th>\n",
              "      <th>Age</th>\n",
              "    </tr>\n",
              "  </thead>\n",
              "  <tbody>\n",
              "    <tr>\n",
              "      <th>0</th>\n",
              "      <td>6</td>\n",
              "      <td>148</td>\n",
              "      <td>72</td>\n",
              "      <td>35</td>\n",
              "      <td>0</td>\n",
              "      <td>33.6</td>\n",
              "      <td>0.627</td>\n",
              "      <td>50</td>\n",
              "    </tr>\n",
              "    <tr>\n",
              "      <th>1</th>\n",
              "      <td>1</td>\n",
              "      <td>85</td>\n",
              "      <td>66</td>\n",
              "      <td>29</td>\n",
              "      <td>0</td>\n",
              "      <td>26.6</td>\n",
              "      <td>0.351</td>\n",
              "      <td>31</td>\n",
              "    </tr>\n",
              "    <tr>\n",
              "      <th>2</th>\n",
              "      <td>8</td>\n",
              "      <td>183</td>\n",
              "      <td>64</td>\n",
              "      <td>0</td>\n",
              "      <td>0</td>\n",
              "      <td>23.3</td>\n",
              "      <td>0.672</td>\n",
              "      <td>32</td>\n",
              "    </tr>\n",
              "    <tr>\n",
              "      <th>3</th>\n",
              "      <td>1</td>\n",
              "      <td>89</td>\n",
              "      <td>66</td>\n",
              "      <td>23</td>\n",
              "      <td>94</td>\n",
              "      <td>28.1</td>\n",
              "      <td>0.167</td>\n",
              "      <td>21</td>\n",
              "    </tr>\n",
              "    <tr>\n",
              "      <th>4</th>\n",
              "      <td>0</td>\n",
              "      <td>137</td>\n",
              "      <td>40</td>\n",
              "      <td>35</td>\n",
              "      <td>168</td>\n",
              "      <td>43.1</td>\n",
              "      <td>2.288</td>\n",
              "      <td>33</td>\n",
              "    </tr>\n",
              "  </tbody>\n",
              "</table>\n",
              "</div>"
            ],
            "text/plain": [
              "   Pregnancies  Glucose  BloodPressure  ...   BMI  DiabetesPedigreeFunction  Age\n",
              "0            6      148             72  ...  33.6                     0.627   50\n",
              "1            1       85             66  ...  26.6                     0.351   31\n",
              "2            8      183             64  ...  23.3                     0.672   32\n",
              "3            1       89             66  ...  28.1                     0.167   21\n",
              "4            0      137             40  ...  43.1                     2.288   33\n",
              "\n",
              "[5 rows x 8 columns]"
            ]
          },
          "metadata": {
            "tags": []
          },
          "execution_count": 8
        }
      ]
    },
    {
      "cell_type": "code",
      "metadata": {
        "id": "6tl8wIsaHio7",
        "colab_type": "code",
        "colab": {
          "base_uri": "https://localhost:8080/",
          "height": 119
        },
        "outputId": "628a9904-09ef-4033-9248-eef4e89d433a"
      },
      "source": [
        "y.head()"
      ],
      "execution_count": 11,
      "outputs": [
        {
          "output_type": "execute_result",
          "data": {
            "text/plain": [
              "0    1\n",
              "1    0\n",
              "2    1\n",
              "3    0\n",
              "4    1\n",
              "Name: Outcome, dtype: int64"
            ]
          },
          "metadata": {
            "tags": []
          },
          "execution_count": 11
        }
      ]
    },
    {
      "cell_type": "code",
      "metadata": {
        "colab_type": "code",
        "id": "oZJrCIjO-uK8",
        "colab": {}
      },
      "source": [
        "train_X, test_X, train_y, test_y = train_test_split(X, y, test_size=0.3)"
      ],
      "execution_count": 0,
      "outputs": []
    },
    {
      "cell_type": "code",
      "metadata": {
        "colab_type": "code",
        "id": "banVVfhp-uIJ",
        "colab": {
          "base_uri": "https://localhost:8080/",
          "height": 204
        },
        "outputId": "6ba7caf1-1290-4c48-f6be-c1d82b14c875"
      },
      "source": [
        "train_X.head()"
      ],
      "execution_count": 13,
      "outputs": [
        {
          "output_type": "execute_result",
          "data": {
            "text/html": [
              "<div>\n",
              "<style scoped>\n",
              "    .dataframe tbody tr th:only-of-type {\n",
              "        vertical-align: middle;\n",
              "    }\n",
              "\n",
              "    .dataframe tbody tr th {\n",
              "        vertical-align: top;\n",
              "    }\n",
              "\n",
              "    .dataframe thead th {\n",
              "        text-align: right;\n",
              "    }\n",
              "</style>\n",
              "<table border=\"1\" class=\"dataframe\">\n",
              "  <thead>\n",
              "    <tr style=\"text-align: right;\">\n",
              "      <th></th>\n",
              "      <th>Pregnancies</th>\n",
              "      <th>Glucose</th>\n",
              "      <th>BloodPressure</th>\n",
              "      <th>SkinThickness</th>\n",
              "      <th>Insulin</th>\n",
              "      <th>BMI</th>\n",
              "      <th>DiabetesPedigreeFunction</th>\n",
              "      <th>Age</th>\n",
              "    </tr>\n",
              "  </thead>\n",
              "  <tbody>\n",
              "    <tr>\n",
              "      <th>350</th>\n",
              "      <td>4</td>\n",
              "      <td>92</td>\n",
              "      <td>80</td>\n",
              "      <td>0</td>\n",
              "      <td>0</td>\n",
              "      <td>42.2</td>\n",
              "      <td>0.237</td>\n",
              "      <td>29</td>\n",
              "    </tr>\n",
              "    <tr>\n",
              "      <th>6</th>\n",
              "      <td>3</td>\n",
              "      <td>78</td>\n",
              "      <td>50</td>\n",
              "      <td>32</td>\n",
              "      <td>88</td>\n",
              "      <td>31.0</td>\n",
              "      <td>0.248</td>\n",
              "      <td>26</td>\n",
              "    </tr>\n",
              "    <tr>\n",
              "      <th>33</th>\n",
              "      <td>6</td>\n",
              "      <td>92</td>\n",
              "      <td>92</td>\n",
              "      <td>0</td>\n",
              "      <td>0</td>\n",
              "      <td>19.9</td>\n",
              "      <td>0.188</td>\n",
              "      <td>28</td>\n",
              "    </tr>\n",
              "    <tr>\n",
              "      <th>245</th>\n",
              "      <td>9</td>\n",
              "      <td>184</td>\n",
              "      <td>85</td>\n",
              "      <td>15</td>\n",
              "      <td>0</td>\n",
              "      <td>30.0</td>\n",
              "      <td>1.213</td>\n",
              "      <td>49</td>\n",
              "    </tr>\n",
              "    <tr>\n",
              "      <th>91</th>\n",
              "      <td>4</td>\n",
              "      <td>123</td>\n",
              "      <td>80</td>\n",
              "      <td>15</td>\n",
              "      <td>176</td>\n",
              "      <td>32.0</td>\n",
              "      <td>0.443</td>\n",
              "      <td>34</td>\n",
              "    </tr>\n",
              "  </tbody>\n",
              "</table>\n",
              "</div>"
            ],
            "text/plain": [
              "     Pregnancies  Glucose  BloodPressure  ...   BMI  DiabetesPedigreeFunction  Age\n",
              "350            4       92             80  ...  42.2                     0.237   29\n",
              "6              3       78             50  ...  31.0                     0.248   26\n",
              "33             6       92             92  ...  19.9                     0.188   28\n",
              "245            9      184             85  ...  30.0                     1.213   49\n",
              "91             4      123             80  ...  32.0                     0.443   34\n",
              "\n",
              "[5 rows x 8 columns]"
            ]
          },
          "metadata": {
            "tags": []
          },
          "execution_count": 13
        }
      ]
    },
    {
      "cell_type": "code",
      "metadata": {
        "colab_type": "code",
        "id": "988ZlydE-sS7",
        "colab": {
          "base_uri": "https://localhost:8080/",
          "height": 119
        },
        "outputId": "84545ccf-d2c5-4581-8eaa-53fc1a0e0077"
      },
      "source": [
        "train_y.head()"
      ],
      "execution_count": 14,
      "outputs": [
        {
          "output_type": "execute_result",
          "data": {
            "text/plain": [
              "350    0\n",
              "6      1\n",
              "33     0\n",
              "245    1\n",
              "91     0\n",
              "Name: Outcome, dtype: int64"
            ]
          },
          "metadata": {
            "tags": []
          },
          "execution_count": 14
        }
      ]
    },
    {
      "cell_type": "code",
      "metadata": {
        "colab_type": "code",
        "id": "OqX5TdfS-sGl",
        "colab": {
          "base_uri": "https://localhost:8080/",
          "height": 204
        },
        "outputId": "03354305-5dab-4c69-be9a-518931f02286"
      },
      "source": [
        "test_X.head()"
      ],
      "execution_count": 15,
      "outputs": [
        {
          "output_type": "execute_result",
          "data": {
            "text/html": [
              "<div>\n",
              "<style scoped>\n",
              "    .dataframe tbody tr th:only-of-type {\n",
              "        vertical-align: middle;\n",
              "    }\n",
              "\n",
              "    .dataframe tbody tr th {\n",
              "        vertical-align: top;\n",
              "    }\n",
              "\n",
              "    .dataframe thead th {\n",
              "        text-align: right;\n",
              "    }\n",
              "</style>\n",
              "<table border=\"1\" class=\"dataframe\">\n",
              "  <thead>\n",
              "    <tr style=\"text-align: right;\">\n",
              "      <th></th>\n",
              "      <th>Pregnancies</th>\n",
              "      <th>Glucose</th>\n",
              "      <th>BloodPressure</th>\n",
              "      <th>SkinThickness</th>\n",
              "      <th>Insulin</th>\n",
              "      <th>BMI</th>\n",
              "      <th>DiabetesPedigreeFunction</th>\n",
              "      <th>Age</th>\n",
              "    </tr>\n",
              "  </thead>\n",
              "  <tbody>\n",
              "    <tr>\n",
              "      <th>332</th>\n",
              "      <td>1</td>\n",
              "      <td>180</td>\n",
              "      <td>0</td>\n",
              "      <td>0</td>\n",
              "      <td>0</td>\n",
              "      <td>43.3</td>\n",
              "      <td>0.282</td>\n",
              "      <td>41</td>\n",
              "    </tr>\n",
              "    <tr>\n",
              "      <th>249</th>\n",
              "      <td>1</td>\n",
              "      <td>111</td>\n",
              "      <td>86</td>\n",
              "      <td>19</td>\n",
              "      <td>0</td>\n",
              "      <td>30.1</td>\n",
              "      <td>0.143</td>\n",
              "      <td>23</td>\n",
              "    </tr>\n",
              "    <tr>\n",
              "      <th>669</th>\n",
              "      <td>9</td>\n",
              "      <td>154</td>\n",
              "      <td>78</td>\n",
              "      <td>30</td>\n",
              "      <td>100</td>\n",
              "      <td>30.9</td>\n",
              "      <td>0.164</td>\n",
              "      <td>45</td>\n",
              "    </tr>\n",
              "    <tr>\n",
              "      <th>478</th>\n",
              "      <td>8</td>\n",
              "      <td>126</td>\n",
              "      <td>74</td>\n",
              "      <td>38</td>\n",
              "      <td>75</td>\n",
              "      <td>25.9</td>\n",
              "      <td>0.162</td>\n",
              "      <td>39</td>\n",
              "    </tr>\n",
              "    <tr>\n",
              "      <th>651</th>\n",
              "      <td>1</td>\n",
              "      <td>117</td>\n",
              "      <td>60</td>\n",
              "      <td>23</td>\n",
              "      <td>106</td>\n",
              "      <td>33.8</td>\n",
              "      <td>0.466</td>\n",
              "      <td>27</td>\n",
              "    </tr>\n",
              "  </tbody>\n",
              "</table>\n",
              "</div>"
            ],
            "text/plain": [
              "     Pregnancies  Glucose  BloodPressure  ...   BMI  DiabetesPedigreeFunction  Age\n",
              "332            1      180              0  ...  43.3                     0.282   41\n",
              "249            1      111             86  ...  30.1                     0.143   23\n",
              "669            9      154             78  ...  30.9                     0.164   45\n",
              "478            8      126             74  ...  25.9                     0.162   39\n",
              "651            1      117             60  ...  33.8                     0.466   27\n",
              "\n",
              "[5 rows x 8 columns]"
            ]
          },
          "metadata": {
            "tags": []
          },
          "execution_count": 15
        }
      ]
    },
    {
      "cell_type": "code",
      "metadata": {
        "colab_type": "code",
        "id": "Nil5Y1Vy-r1G",
        "colab": {
          "base_uri": "https://localhost:8080/",
          "height": 119
        },
        "outputId": "a485a426-11c7-473d-c0d0-387ab0c7bc38"
      },
      "source": [
        "test_y.head()"
      ],
      "execution_count": 16,
      "outputs": [
        {
          "output_type": "execute_result",
          "data": {
            "text/plain": [
              "332    1\n",
              "249    0\n",
              "669    0\n",
              "478    0\n",
              "651    0\n",
              "Name: Outcome, dtype: int64"
            ]
          },
          "metadata": {
            "tags": []
          },
          "execution_count": 16
        }
      ]
    },
    {
      "cell_type": "code",
      "metadata": {
        "colab_type": "code",
        "id": "qmaTaaGB-roE",
        "colab": {}
      },
      "source": [
        "#generate summary\n",
        "train_mean_pos = train_X[train_y==1].mean()\n",
        "train_std_pos = train_X[train_y==1].std()\n",
        "train_mean_neg = train_X[train_y==0].mean()\n",
        "train_std_neg = train_X[train_y==0].std()"
      ],
      "execution_count": 0,
      "outputs": []
    },
    {
      "cell_type": "code",
      "metadata": {
        "id": "3XWUc3Y1_3OX",
        "colab_type": "code",
        "colab": {
          "base_uri": "https://localhost:8080/",
          "height": 170
        },
        "outputId": "08f71356-ba8a-4f1a-ffc1-c0526c91cbb4"
      },
      "source": [
        "train_mean_pos"
      ],
      "execution_count": 18,
      "outputs": [
        {
          "output_type": "execute_result",
          "data": {
            "text/plain": [
              "Pregnancies                   4.864322\n",
              "Glucose                     140.236181\n",
              "BloodPressure                71.527638\n",
              "SkinThickness                22.130653\n",
              "Insulin                      98.271357\n",
              "BMI                          35.255276\n",
              "DiabetesPedigreeFunction      0.546874\n",
              "Age                          36.618090\n",
              "dtype: float64"
            ]
          },
          "metadata": {
            "tags": []
          },
          "execution_count": 18
        }
      ]
    },
    {
      "cell_type": "code",
      "metadata": {
        "id": "j2EeCpMD_0x0",
        "colab_type": "code",
        "colab": {
          "base_uri": "https://localhost:8080/",
          "height": 170
        },
        "outputId": "e30761ae-98d3-4efb-985a-3e78aae87953"
      },
      "source": [
        "train_std_pos"
      ],
      "execution_count": 19,
      "outputs": [
        {
          "output_type": "execute_result",
          "data": {
            "text/plain": [
              "Pregnancies                   3.747953\n",
              "Glucose                      32.159161\n",
              "BloodPressure                19.875318\n",
              "SkinThickness                17.963010\n",
              "Insulin                     138.692184\n",
              "BMI                           6.970737\n",
              "DiabetesPedigreeFunction      0.372249\n",
              "Age                          10.808474\n",
              "dtype: float64"
            ]
          },
          "metadata": {
            "tags": []
          },
          "execution_count": 19
        }
      ]
    },
    {
      "cell_type": "code",
      "metadata": {
        "id": "DDITv26B__S5",
        "colab_type": "code",
        "colab": {
          "base_uri": "https://localhost:8080/",
          "height": 170
        },
        "outputId": "d9204406-758d-40f9-ea31-1cdf644e5eda"
      },
      "source": [
        "train_mean_neg"
      ],
      "execution_count": 20,
      "outputs": [
        {
          "output_type": "execute_result",
          "data": {
            "text/plain": [
              "Pregnancies                   3.357988\n",
              "Glucose                     109.636095\n",
              "BloodPressure                68.556213\n",
              "SkinThickness                18.816568\n",
              "Insulin                      65.819527\n",
              "BMI                          30.042604\n",
              "DiabetesPedigreeFunction      0.423775\n",
              "Age                          31.594675\n",
              "dtype: float64"
            ]
          },
          "metadata": {
            "tags": []
          },
          "execution_count": 20
        }
      ]
    },
    {
      "cell_type": "code",
      "metadata": {
        "id": "rSaq-zJdAB3I",
        "colab_type": "code",
        "colab": {
          "base_uri": "https://localhost:8080/",
          "height": 170
        },
        "outputId": "ea9ee347-6056-4433-ddf5-6827bfa077e2"
      },
      "source": [
        "train_std_neg"
      ],
      "execution_count": 21,
      "outputs": [
        {
          "output_type": "execute_result",
          "data": {
            "text/plain": [
              "Pregnancies                  3.063949\n",
              "Glucose                     25.697755\n",
              "BloodPressure               18.100890\n",
              "SkinThickness               15.146429\n",
              "Insulin                     87.534885\n",
              "BMI                          7.808742\n",
              "DiabetesPedigreeFunction     0.282013\n",
              "Age                         11.921538\n",
              "dtype: float64"
            ]
          },
          "metadata": {
            "tags": []
          },
          "execution_count": 21
        }
      ]
    },
    {
      "cell_type": "code",
      "metadata": {
        "id": "A653-DtXAtei",
        "colab_type": "code",
        "colab": {}
      },
      "source": [
        "summary = { \"train_mean_pos\": train_mean_pos.tolist() , \"train_std_pos\": train_std_pos.tolist(), \n",
        "           \"train_mean_neg\": train_mean_neg.tolist(), \"train_std_neg\": train_std_neg.tolist()}"
      ],
      "execution_count": 0,
      "outputs": []
    },
    {
      "cell_type": "code",
      "metadata": {
        "id": "6sQm2wSvBBsj",
        "colab_type": "code",
        "colab": {
          "base_uri": "https://localhost:8080/",
          "height": 561
        },
        "outputId": "be88f19d-b5db-4255-edaa-de55149bba6f"
      },
      "source": [
        "summary"
      ],
      "execution_count": 23,
      "outputs": [
        {
          "output_type": "execute_result",
          "data": {
            "text/plain": [
              "{'train_mean_neg': [3.3579881656804735,\n",
              "  109.63609467455622,\n",
              "  68.55621301775147,\n",
              "  18.816568047337277,\n",
              "  65.81952662721893,\n",
              "  30.04260355029588,\n",
              "  0.42377514792899396,\n",
              "  31.59467455621302],\n",
              " 'train_mean_pos': [4.864321608040201,\n",
              "  140.23618090452263,\n",
              "  71.52763819095478,\n",
              "  22.13065326633166,\n",
              "  98.2713567839196,\n",
              "  35.25527638190955,\n",
              "  0.5468743718592968,\n",
              "  36.618090452261306],\n",
              " 'train_std_neg': [3.063949194185171,\n",
              "  25.69775473369275,\n",
              "  18.100890345879094,\n",
              "  15.146429417251934,\n",
              "  87.53488479885338,\n",
              "  7.808742439299097,\n",
              "  0.28201297879956233,\n",
              "  11.92153755221639],\n",
              " 'train_std_pos': [3.7479534371111063,\n",
              "  32.15916064861882,\n",
              "  19.87531817799438,\n",
              "  17.963009552893716,\n",
              "  138.6921841820957,\n",
              "  6.970736798512504,\n",
              "  0.37224878899136504,\n",
              "  10.808473778758989]}"
            ]
          },
          "metadata": {
            "tags": []
          },
          "execution_count": 23
        }
      ]
    },
    {
      "cell_type": "code",
      "metadata": {
        "id": "9OfQxddHGVit",
        "colab_type": "code",
        "colab": {}
      },
      "source": [
        "import numpy as np\n",
        "def cond_prob(x, mn, stddv):  #value , mean, standard dev| this is that fancy formula: 1/root(sigma^2)....\n",
        "    varnc = stddv*stddv\n",
        "    p = 1/(np.sqrt(2*np.pi*varnc)) * np.exp((-(x-mn)**2)/(2*varnc))\n",
        "    return p\n"
      ],
      "execution_count": 0,
      "outputs": []
    },
    {
      "cell_type": "code",
      "metadata": {
        "id": "ZQr814itBl9o",
        "colab_type": "code",
        "colab": {}
      },
      "source": [
        "def predict(row, summary):\n",
        "\n",
        "  #prior probability obtained as probability of class\n",
        "  #i.e. we find fraction of positive samples present in the whole dataset\n",
        "  prob_positive=len(summary[\"train_mean_pos\"])/( len(summary[\"train_mean_pos\"])+len(summary[\"train_mean_neg\"]) )\n",
        "  #then multiply it with conditional probability of each feature\n",
        "  for i in range(0, len(row)):\n",
        "    prob_positive = prob_positive * cond_prob(row[i],summary[\"train_mean_pos\"][i], summary[\"train_std_pos\"][i])\n",
        "  \n",
        "\n",
        "  #exact same process for negative\n",
        "  prob_negative=len(summary[\"train_mean_neg\"])/( len(summary[\"train_mean_pos\"])+len(summary[\"train_mean_neg\"]) )\n",
        "  for i in range(0, len(row)):\n",
        "    prob_negative = prob_negative * cond_prob(row[i],summary[\"train_mean_neg\"][i], summary[\"train_std_neg\"][i])\n",
        "  \n",
        "  return [prob_positive, prob_negative]"
      ],
      "execution_count": 0,
      "outputs": []
    },
    {
      "cell_type": "code",
      "metadata": {
        "id": "XbhkGL0KAeYQ",
        "colab_type": "code",
        "colab": {}
      },
      "source": [
        "predictions_raw = []\n",
        "for row in test_X.values.tolist():\n",
        "  predictions_raw.append(predict(row, summary))"
      ],
      "execution_count": 0,
      "outputs": []
    },
    {
      "cell_type": "code",
      "metadata": {
        "id": "CGfbhqScJKfm",
        "colab_type": "code",
        "colab": {
          "base_uri": "https://localhost:8080/",
          "height": 1000
        },
        "outputId": "a4a6ec61-33ef-4987-ec98-4b1a9a53a0e6"
      },
      "source": [
        "predictions_raw"
      ],
      "execution_count": 27,
      "outputs": [
        {
          "output_type": "execute_result",
          "data": {
            "text/plain": [
              "[[1.081080499816779e-16, 4.6267965476144094e-18],\n",
              " [8.363324392238236e-14, 1.068777260411779e-12],\n",
              " [2.941306541807416e-13, 5.690913980251013e-14],\n",
              " [1.8846780737095908e-13, 3.3255429840987294e-13],\n",
              " [4.703601469763976e-13, 2.9242926593831307e-12],\n",
              " [1.0761050193095872e-13, 7.69388486554156e-15],\n",
              " [2.023984147077191e-17, 4.2560801509864325e-16],\n",
              " [3.4240754600107495e-13, 1.6059398300842902e-13],\n",
              " [1.739028406424198e-14, 4.356523750058428e-14],\n",
              " [1.1139877333908661e-13, 5.241715196089907e-13],\n",
              " [5.1999490795062623e-14, 6.309040319398944e-13],\n",
              " [4.891916056519244e-15, 1.1597229511749616e-14],\n",
              " [1.3689626360908473e-14, 1.6484702673575683e-16],\n",
              " [2.0180447203898612e-13, 6.157205196854831e-13],\n",
              " [3.2448440676884315e-14, 7.904460395257122e-15],\n",
              " [1.0185281627782808e-13, 1.1466227504745084e-12],\n",
              " [2.3817790474022585e-13, 1.4028073617315109e-12],\n",
              " [1.0968275135544451e-13, 2.2448735901437445e-14],\n",
              " [6.30396778319898e-15, 8.44611805540061e-15],\n",
              " [1.2702818828238e-14, 1.0620994284263472e-12],\n",
              " [1.6342212260937284e-13, 2.8837302440521477e-13],\n",
              " [5.2216165586522936e-14, 2.792353237729454e-16],\n",
              " [6.726022287363207e-15, 5.947944120205427e-15],\n",
              " [1.405434762968952e-13, 3.804668252711073e-14],\n",
              " [1.3889334590953474e-13, 1.4230542114095482e-12],\n",
              " [3.319551481555122e-13, 8.345809697649779e-13],\n",
              " [2.0647684954355243e-13, 2.7472328467143165e-12],\n",
              " [1.3559068344545407e-13, 3.1203208321643323e-12],\n",
              " [2.0815835738560236e-13, 1.7463463534521907e-12],\n",
              " [2.2064023947675062e-14, 8.715882168303897e-13],\n",
              " [1.626824604578867e-13, 1.871564911642683e-12],\n",
              " [1.3786628072651823e-17, 3.579838408731035e-16],\n",
              " [1.6818692146254028e-13, 2.924922262080586e-13],\n",
              " [5.03282608977464e-13, 2.047383801240522e-13],\n",
              " [5.388820880197454e-13, 1.2528745533140316e-12],\n",
              " [1.7912649325543287e-13, 2.484030153860474e-13],\n",
              " [2.2057908595449457e-15, 1.6782638097385408e-15],\n",
              " [6.596279878077954e-14, 2.1962316326426993e-12],\n",
              " [2.247100218392373e-18, 7.299199665493454e-17],\n",
              " [5.6213479132191e-13, 6.353795729128298e-14],\n",
              " [9.094339470732642e-13, 3.252486505054354e-13],\n",
              " [4.8882747889059436e-14, 6.67713530361783e-13],\n",
              " [3.60431788198523e-13, 1.2380609365450683e-13],\n",
              " [6.072459922809133e-16, 8.521830635032261e-17],\n",
              " [1.7572142418499843e-14, 4.647403000371023e-13],\n",
              " [2.7950458460720438e-14, 2.6453045784883864e-13],\n",
              " [3.623689502414841e-14, 1.7549840382506726e-12],\n",
              " [2.813961090644481e-13, 2.302199614295836e-14],\n",
              " [1.3734734827343536e-13, 6.522947207530462e-16],\n",
              " [1.4884606057582917e-14, 6.688922730156169e-13],\n",
              " [3.3035526001675425e-16, 4.448512509429318e-21],\n",
              " [1.417249280488598e-13, 2.536329371339783e-13],\n",
              " [4.4630422966711096e-23, 6.326204447355245e-38],\n",
              " [3.6097696839792995e-16, 1.835954450230324e-21],\n",
              " [2.3534729044414875e-15, 1.7976152523525527e-16],\n",
              " [7.772942002064847e-13, 1.6054123739557243e-13],\n",
              " [2.942069110371419e-13, 9.197963329802617e-14],\n",
              " [5.228122801407332e-14, 1.7687005739336335e-16],\n",
              " [9.348067584392808e-15, 9.827091328736399e-14],\n",
              " [1.4211959369868736e-14, 4.784913473014875e-16],\n",
              " [3.0835819750100666e-14, 1.256696385249362e-12],\n",
              " [1.7764732860522043e-16, 1.9806275481291102e-17],\n",
              " [2.8943371164719833e-13, 6.369206041518535e-15],\n",
              " [5.0439904492464044e-15, 2.0239174520566436e-13],\n",
              " [3.4192622648584946e-13, 4.467859221893199e-14],\n",
              " [8.944267711769509e-15, 6.518627563782728e-13],\n",
              " [1.2973876072263152e-14, 9.017901069478638e-13],\n",
              " [9.0196406316228e-16, 2.5848510927342523e-17],\n",
              " [2.8780620610788753e-16, 3.041876936289681e-16],\n",
              " [9.561898250431794e-17, 4.187651737923052e-16],\n",
              " [5.28447949616453e-13, 1.6753543763771273e-12],\n",
              " [1.8131339501781012e-13, 7.517531884018679e-13],\n",
              " [5.119528238150249e-13, 1.0552092273858508e-13],\n",
              " [7.611860415129588e-14, 1.3694473616002059e-12],\n",
              " [2.9629306778571324e-13, 1.3492616715983066e-12],\n",
              " [2.5052115325087518e-14, 5.286553105505633e-14],\n",
              " [8.569713720506203e-14, 1.4096149616398986e-13],\n",
              " [1.8116642312158032e-13, 5.445604532081831e-13],\n",
              " [2.841136213070777e-13, 7.075392095092411e-13],\n",
              " [1.0163408825827705e-13, 7.843061219048848e-13],\n",
              " [2.607717330447383e-13, 1.2819986998435975e-12],\n",
              " [2.2778017639771225e-13, 1.1581970226633935e-13],\n",
              " [7.019378015291922e-17, 7.483534146255542e-17],\n",
              " [7.526515992730905e-15, 4.2450092662375644e-13],\n",
              " [1.305835887367501e-13, 1.487689690895594e-12],\n",
              " [1.1931809207399645e-13, 5.770037919255227e-13],\n",
              " [1.0805664839336386e-13, 2.535144390372385e-12],\n",
              " [1.7606075073963055e-13, 3.486941687525717e-14],\n",
              " [3.805597960121012e-13, 6.919217839739799e-13],\n",
              " [5.872988403807405e-15, 7.850993787643853e-13],\n",
              " [2.4199490019509473e-13, 2.4711997591709063e-12],\n",
              " [1.2504969018505894e-13, 6.960724945949132e-13],\n",
              " [4.3498888859545644e-13, 2.5551162343179993e-12],\n",
              " [2.736577259005934e-15, 2.2362925256624975e-13],\n",
              " [6.924004491195611e-13, 5.307769282028026e-13],\n",
              " [2.034915482974245e-13, 2.0542427660981576e-12],\n",
              " [1.608211365146207e-14, 6.162261447214691e-14],\n",
              " [4.0447436745051293e-13, 9.356505947763947e-13],\n",
              " [4.963071155060086e-15, 3.829257929573689e-18],\n",
              " [1.0751040462233852e-13, 1.1163458088964945e-12],\n",
              " [1.1028083712205752e-19, 1.570422834411891e-17],\n",
              " [8.966402728863191e-13, 2.366444964803724e-12],\n",
              " [2.6266713611308095e-15, 2.9252106189818736e-17],\n",
              " [1.337530303216073e-13, 1.9037656910752473e-14],\n",
              " [4.357931433685053e-14, 1.5575803067942627e-12],\n",
              " [6.789706151702597e-14, 2.6976918598600276e-13],\n",
              " [8.666651099278889e-15, 6.957299673097719e-13],\n",
              " [1.2225030849076658e-13, 1.076200063061537e-15],\n",
              " [3.3402782437235884e-13, 1.932005201247956e-13],\n",
              " [1.6276773745103424e-17, 1.5889898120294535e-16],\n",
              " [1.4951595480103416e-13, 1.8226541284749798e-12],\n",
              " [7.229180110769085e-19, 3.1908415447454184e-19],\n",
              " [5.497555478380387e-14, 1.825634451844389e-12],\n",
              " [3.4002997143090215e-14, 2.0988311645965045e-13],\n",
              " [1.2480731796744379e-14, 4.797806644155022e-13],\n",
              " [2.7627746130596232e-14, 1.631258875209723e-12],\n",
              " [1.2498099150857332e-13, 6.709581641761434e-13],\n",
              " [1.9766246238217997e-13, 2.7382409349458084e-12],\n",
              " [2.531312362867042e-13, 1.0009634536726633e-13],\n",
              " [1.8514813056986724e-14, 6.419785907696732e-15],\n",
              " [2.2247256945692527e-13, 1.6581657075940018e-12],\n",
              " [1.8330701461627298e-13, 2.0272179813688757e-13],\n",
              " [1.2368696478916935e-13, 1.2045032141991429e-12],\n",
              " [2.3605134924033045e-15, 3.337797546295479e-13],\n",
              " [1.0492977645056017e-13, 1.789824343779737e-13],\n",
              " [3.0139886887977217e-15, 1.5083190441978426e-14],\n",
              " [2.6195970721996434e-14, 8.76891020966963e-15],\n",
              " [2.7642851480241373e-14, 3.2772728041544006e-14],\n",
              " [7.985479130785443e-22, 4.546440197835692e-19],\n",
              " [1.9447296743276821e-13, 2.79299233705344e-15],\n",
              " [4.185069007234725e-14, 1.1955374178421322e-12],\n",
              " [4.802433916003232e-13, 3.936851350685266e-12],\n",
              " [3.4675919368134196e-13, 8.524803680783266e-13],\n",
              " [2.563809698775023e-14, 3.960037569381123e-14],\n",
              " [2.6809733520082047e-14, 1.7692626119613012e-12],\n",
              " [1.4972630984558461e-16, 6.289438323067933e-17],\n",
              " [8.413004766917068e-14, 1.185724246191506e-16],\n",
              " [6.124756224754073e-13, 5.38504273224372e-13],\n",
              " [3.6284933218007637e-14, 8.39675128936966e-15],\n",
              " [2.4923555712243474e-13, 2.0027301861902664e-13],\n",
              " [2.082221554062924e-14, 2.1182491641126213e-14],\n",
              " [9.89528242361459e-15, 5.6173375593237036e-15],\n",
              " [1.0302385781121196e-15, 5.0537534611977075e-20],\n",
              " [7.034010193254401e-14, 5.4148672358933076e-14],\n",
              " [7.531312024145402e-14, 1.0859466238497667e-13],\n",
              " [2.6110259525238585e-14, 1.6312163757220288e-12],\n",
              " [7.584062687775798e-14, 1.3172223969021668e-16],\n",
              " [2.5497608459305234e-14, 1.7125036285855198e-13],\n",
              " [2.4950281107655556e-13, 2.3341653971821007e-12],\n",
              " [9.677253783717656e-13, 4.572291855076821e-13],\n",
              " [1.4186567426130334e-18, 1.3194942734460147e-23],\n",
              " [1.1149637154631837e-14, 5.861477118325014e-13],\n",
              " [4.948436734386254e-15, 1.0524469502667183e-15],\n",
              " [3.963155126321632e-15, 2.1105462031187106e-15],\n",
              " [1.7241371441841568e-13, 3.045327237407727e-13],\n",
              " [3.2270053081690045e-13, 4.4546055085449703e-13],\n",
              " [1.7309000663542835e-14, 1.7783984047905796e-17],\n",
              " [1.8619029396749734e-14, 1.716306248059784e-14],\n",
              " [1.7461519583331808e-13, 2.049148149095082e-14],\n",
              " [1.084266480833348e-18, 3.0170688132661905e-26],\n",
              " [3.1791244662980393e-15, 2.6688970756011376e-20],\n",
              " [8.74504044237538e-14, 1.5393481350136276e-12],\n",
              " [1.198416736696338e-13, 9.665624222339802e-13],\n",
              " [1.2541700900740617e-13, 1.5902565827664228e-12],\n",
              " [2.4816677146086544e-13, 2.7090582646561387e-12],\n",
              " [2.6383716098067656e-13, 5.840768327357424e-13],\n",
              " [2.60570404271869e-13, 1.3864885096594632e-12],\n",
              " [1.381506797174287e-22, 3.5832483588048982e-19],\n",
              " [1.3265885806263529e-17, 5.475452817264682e-19],\n",
              " [3.922900577217303e-14, 3.3498644873280513e-13],\n",
              " [2.421004907503177e-13, 1.103068523928457e-12],\n",
              " [1.293021151919826e-13, 1.1151552159034945e-12],\n",
              " [3.435287521657337e-14, 2.354926182168835e-13],\n",
              " [1.543685868183124e-13, 1.747635237267985e-13],\n",
              " [8.202253745694117e-14, 4.726358580114272e-13],\n",
              " [9.908631616766319e-14, 9.970327921298705e-13],\n",
              " [1.7858533738773559e-13, 2.4563789911607774e-12],\n",
              " [1.3034102694210058e-16, 7.412711247569776e-17],\n",
              " [1.2288038200328497e-13, 2.878190912767059e-14],\n",
              " [1.866863112446182e-13, 1.1275902042168652e-13],\n",
              " [6.308370029157168e-16, 7.6447458764656525e-19],\n",
              " [2.996134473801534e-14, 1.1000766362289521e-12],\n",
              " [4.38335673108907e-15, 6.4474636774998904e-18],\n",
              " [1.2935207635515144e-13, 7.661851804274158e-13],\n",
              " [3.0250440922232344e-14, 1.2518554275439932e-16],\n",
              " [1.392518474005506e-13, 5.471314303224807e-13],\n",
              " [2.1098777155677474e-13, 1.1229995646054308e-12],\n",
              " [2.0306763974966551e-16, 8.81403260188811e-16],\n",
              " [1.618876404192984e-16, 9.302090212400983e-17],\n",
              " [1.6894927642828683e-13, 1.1488296685550754e-12],\n",
              " [1.146445895949273e-13, 2.553003027008018e-12],\n",
              " [1.3595449093138938e-14, 8.017308201618391e-15],\n",
              " [2.4770715999475406e-14, 4.034253975460359e-16],\n",
              " [1.9506343753690472e-13, 1.9032021340300644e-12],\n",
              " [6.36836226078849e-14, 1.8380683284450717e-13],\n",
              " [4.2435064448480304e-14, 3.1888960917173374e-13],\n",
              " [7.677514600518946e-14, 3.989029329522836e-13],\n",
              " [5.300119251549184e-13, 8.469359549780321e-13],\n",
              " [3.4081126949789175e-13, 1.241713302140844e-13],\n",
              " [8.466940652568004e-15, 1.2940954570129922e-14],\n",
              " [2.8773891612148797e-13, 9.694670032361955e-13],\n",
              " [8.101945690487072e-14, 3.0552848660023376e-16],\n",
              " [1.8199535771660342e-13, 2.1470394622366656e-12],\n",
              " [2.739162947146148e-13, 7.737762454185184e-13],\n",
              " [9.982563874183727e-14, 2.015943217580232e-12],\n",
              " [9.911197031589195e-14, 3.0142703821492176e-13],\n",
              " [2.83437009377665e-14, 3.2215432931247945e-15],\n",
              " [4.827860426711939e-13, 1.579624275352795e-13],\n",
              " [3.495858165275682e-13, 1.7518169421266082e-13],\n",
              " [3.936377249708299e-13, 8.002883301128315e-13],\n",
              " [1.0165040748833889e-13, 7.438074834238313e-15],\n",
              " [6.442094075769555e-14, 1.7196865059879375e-14],\n",
              " [1.9848975301702293e-14, 1.276965167861094e-14],\n",
              " [1.198998622399116e-13, 1.5159562509144815e-12],\n",
              " [1.5088367450069132e-13, 1.092852227888711e-12],\n",
              " [3.402908409112299e-14, 1.7925074878303016e-13],\n",
              " [6.4341367102528e-14, 1.840503732106104e-12],\n",
              " [4.241169248098245e-14, 1.5228704016347918e-12],\n",
              " [2.4037394447759433e-13, 5.3628719022176216e-14],\n",
              " [1.1535031223118588e-13, 2.0876036081592536e-14],\n",
              " [4.688743496913595e-14, 2.1932996539482796e-15],\n",
              " [5.404974789066049e-14, 9.149561642584113e-13],\n",
              " [1.7137785326363614e-16, 5.4373100441333995e-17],\n",
              " [1.8284141455808385e-14, 1.415454963218268e-17],\n",
              " [8.627952022985662e-14, 7.889582487908624e-14],\n",
              " [2.8072552420868103e-13, 3.2320016118962402e-12],\n",
              " [1.7064363944140494e-13, 1.1960702323849112e-13],\n",
              " [2.3281249288808686e-13, 2.6404888752108714e-15],\n",
              " [7.596210042046448e-14, 7.457934309693986e-13],\n",
              " [5.179366719595758e-15, 6.911578318040314e-17],\n",
              " [3.6874474491501605e-14, 1.1090503552121184e-13]]"
            ]
          },
          "metadata": {
            "tags": []
          },
          "execution_count": 27
        }
      ]
    },
    {
      "cell_type": "code",
      "metadata": {
        "id": "4I8_m_yDJZJb",
        "colab_type": "code",
        "colab": {}
      },
      "source": [
        "predictions = []\n",
        "for row in predictions_raw:\n",
        "  if(row[0]>row[1]):\n",
        "    predictions.append(1)\n",
        "  else:\n",
        "    predictions.append(0)"
      ],
      "execution_count": 0,
      "outputs": []
    },
    {
      "cell_type": "code",
      "metadata": {
        "id": "9KUQuYfALU8x",
        "colab_type": "code",
        "colab": {
          "base_uri": "https://localhost:8080/",
          "height": 51
        },
        "outputId": "41f00390-c963-4d21-dba9-6e5cbca3bf68"
      },
      "source": [
        "confusion_matrix(test_y.tolist(), predictions)"
      ],
      "execution_count": 29,
      "outputs": [
        {
          "output_type": "execute_result",
          "data": {
            "text/plain": [
              "array([[126,  36],\n",
              "       [ 16,  53]])"
            ]
          },
          "metadata": {
            "tags": []
          },
          "execution_count": 29
        }
      ]
    }
  ]
}