{
  "nbformat": 4,
  "nbformat_minor": 0,
  "metadata": {
    "colab": {
      "name": "DA2(without Sklearn Naive bayes).ipynb",
      "provenance": [],
      "collapsed_sections": [],
      "toc_visible": true,
      "include_colab_link": true
    },
    "kernelspec": {
      "name": "python3",
      "display_name": "Python 3"
    }
  },
  "cells": [
    {
      "cell_type": "markdown",
      "metadata": {
        "id": "view-in-github",
        "colab_type": "text"
      },
      "source": [
        "<a href=\"https://colab.research.google.com/github/aditya-malte/Simple-LP1-Codes/blob/master/DA2(without_Sklearn_Naive_bayes).ipynb\" target=\"_parent\"><img src=\"https://colab.research.google.com/assets/colab-badge.svg\" alt=\"Open In Colab\"/></a>"
      ]
    },
    {
      "cell_type": "markdown",
      "metadata": {
        "id": "Clwvj16FGltc",
        "colab_type": "text"
      },
      "source": [
        "## Download the Pima Dataset from kagggle:\n",
        "https://www.kaggle.com/uciml/pima-indians-diabetes-database/download"
      ]
    },
    {
      "cell_type": "code",
      "metadata": {
        "id": "_JxlybaBEzTs",
        "colab_type": "code",
        "colab": {}
      },
      "source": [
        "import pandas as pd\n",
        "from sklearn.model_selection import train_test_split\n",
        "from sklearn.metrics import confusion_matrix\n",
        "from sklearn.preprocessing import MinMaxScaler"
      ],
      "execution_count": 0,
      "outputs": []
    },
    {
      "cell_type": "code",
      "metadata": {
        "id": "bjOQAgAvG_ZJ",
        "colab_type": "code",
        "colab": {}
      },
      "source": [
        "data = pd.read_csv(\"diabetes.csv\")"
      ],
      "execution_count": 0,
      "outputs": []
    },
    {
      "cell_type": "code",
      "metadata": {
        "id": "VPNkxuP_PxZz",
        "colab_type": "code",
        "colab": {}
      },
      "source": [
        "columns = data.columns"
      ],
      "execution_count": 0,
      "outputs": []
    },
    {
      "cell_type": "code",
      "metadata": {
        "id": "nfNPgDloP3hb",
        "colab_type": "code",
        "colab": {}
      },
      "source": [
        "columns = [col_name for col_name in columns if not col_name==\"Outcome\"]"
      ],
      "execution_count": 0,
      "outputs": []
    },
    {
      "cell_type": "code",
      "metadata": {
        "id": "5mtlJMa6HE83",
        "colab_type": "code",
        "colab": {
          "base_uri": "https://localhost:8080/",
          "height": 204
        },
        "outputId": "906bcca3-8310-4d00-9ff3-1ef95d5856ff"
      },
      "source": [
        "data.head()"
      ],
      "execution_count": 5,
      "outputs": [
        {
          "output_type": "execute_result",
          "data": {
            "text/html": [
              "<div>\n",
              "<style scoped>\n",
              "    .dataframe tbody tr th:only-of-type {\n",
              "        vertical-align: middle;\n",
              "    }\n",
              "\n",
              "    .dataframe tbody tr th {\n",
              "        vertical-align: top;\n",
              "    }\n",
              "\n",
              "    .dataframe thead th {\n",
              "        text-align: right;\n",
              "    }\n",
              "</style>\n",
              "<table border=\"1\" class=\"dataframe\">\n",
              "  <thead>\n",
              "    <tr style=\"text-align: right;\">\n",
              "      <th></th>\n",
              "      <th>Pregnancies</th>\n",
              "      <th>Glucose</th>\n",
              "      <th>BloodPressure</th>\n",
              "      <th>SkinThickness</th>\n",
              "      <th>Insulin</th>\n",
              "      <th>BMI</th>\n",
              "      <th>DiabetesPedigreeFunction</th>\n",
              "      <th>Age</th>\n",
              "      <th>Outcome</th>\n",
              "    </tr>\n",
              "  </thead>\n",
              "  <tbody>\n",
              "    <tr>\n",
              "      <th>0</th>\n",
              "      <td>6</td>\n",
              "      <td>148</td>\n",
              "      <td>72</td>\n",
              "      <td>35</td>\n",
              "      <td>0</td>\n",
              "      <td>33.6</td>\n",
              "      <td>0.627</td>\n",
              "      <td>50</td>\n",
              "      <td>1</td>\n",
              "    </tr>\n",
              "    <tr>\n",
              "      <th>1</th>\n",
              "      <td>1</td>\n",
              "      <td>85</td>\n",
              "      <td>66</td>\n",
              "      <td>29</td>\n",
              "      <td>0</td>\n",
              "      <td>26.6</td>\n",
              "      <td>0.351</td>\n",
              "      <td>31</td>\n",
              "      <td>0</td>\n",
              "    </tr>\n",
              "    <tr>\n",
              "      <th>2</th>\n",
              "      <td>8</td>\n",
              "      <td>183</td>\n",
              "      <td>64</td>\n",
              "      <td>0</td>\n",
              "      <td>0</td>\n",
              "      <td>23.3</td>\n",
              "      <td>0.672</td>\n",
              "      <td>32</td>\n",
              "      <td>1</td>\n",
              "    </tr>\n",
              "    <tr>\n",
              "      <th>3</th>\n",
              "      <td>1</td>\n",
              "      <td>89</td>\n",
              "      <td>66</td>\n",
              "      <td>23</td>\n",
              "      <td>94</td>\n",
              "      <td>28.1</td>\n",
              "      <td>0.167</td>\n",
              "      <td>21</td>\n",
              "      <td>0</td>\n",
              "    </tr>\n",
              "    <tr>\n",
              "      <th>4</th>\n",
              "      <td>0</td>\n",
              "      <td>137</td>\n",
              "      <td>40</td>\n",
              "      <td>35</td>\n",
              "      <td>168</td>\n",
              "      <td>43.1</td>\n",
              "      <td>2.288</td>\n",
              "      <td>33</td>\n",
              "      <td>1</td>\n",
              "    </tr>\n",
              "  </tbody>\n",
              "</table>\n",
              "</div>"
            ],
            "text/plain": [
              "   Pregnancies  Glucose  BloodPressure  ...  DiabetesPedigreeFunction  Age  Outcome\n",
              "0            6      148             72  ...                     0.627   50        1\n",
              "1            1       85             66  ...                     0.351   31        0\n",
              "2            8      183             64  ...                     0.672   32        1\n",
              "3            1       89             66  ...                     0.167   21        0\n",
              "4            0      137             40  ...                     2.288   33        1\n",
              "\n",
              "[5 rows x 9 columns]"
            ]
          },
          "metadata": {
            "tags": []
          },
          "execution_count": 5
        }
      ]
    },
    {
      "cell_type": "code",
      "metadata": {
        "id": "aLNss8UoJCVG",
        "colab_type": "code",
        "colab": {
          "base_uri": "https://localhost:8080/",
          "height": 286
        },
        "outputId": "37b2f811-00b7-41e0-b7e1-6288873acc8b"
      },
      "source": [
        "data[\"Outcome\"].hist()"
      ],
      "execution_count": 6,
      "outputs": [
        {
          "output_type": "execute_result",
          "data": {
            "text/plain": [
              "<matplotlib.axes._subplots.AxesSubplot at 0x7f33cd354390>"
            ]
          },
          "metadata": {
            "tags": []
          },
          "execution_count": 6
        },
        {
          "output_type": "display_data",
          "data": {
            "image/png": "[encoded data removed]",
            "text/plain": [
              "<Figure size 432x288 with 1 Axes>"
            ]
          },
          "metadata": {
            "tags": []
          }
        }
      ]
    },
    {
      "cell_type": "code",
      "metadata": {
        "id": "aqCBNXMGHG4I",
        "colab_type": "code",
        "colab": {}
      },
      "source": [
        "y = data[\"Outcome\"]\n",
        "X = data.drop([\"Outcome\"], axis=1)"
      ],
      "execution_count": 0,
      "outputs": []
    },
    {
      "cell_type": "code",
      "metadata": {
        "id": "a0Pb_NybOrwa",
        "colab_type": "code",
        "colab": {
          "base_uri": "https://localhost:8080/",
          "height": 204
        },
        "outputId": "7b582f70-1105-4dab-d97b-836366bd2504"
      },
      "source": [
        "X.head()"
      ],
      "execution_count": 8,
      "outputs": [
        {
          "output_type": "execute_result",
          "data": {
            "text/html": [
              "<div>\n",
              "<style scoped>\n",
              "    .dataframe tbody tr th:only-of-type {\n",
              "        vertical-align: middle;\n",
              "    }\n",
              "\n",
              "    .dataframe tbody tr th {\n",
              "        vertical-align: top;\n",
              "    }\n",
              "\n",
              "    .dataframe thead th {\n",
              "        text-align: right;\n",
              "    }\n",
              "</style>\n",
              "<table border=\"1\" class=\"dataframe\">\n",
              "  <thead>\n",
              "    <tr style=\"text-align: right;\">\n",
              "      <th></th>\n",
              "      <th>Pregnancies</th>\n",
              "      <th>Glucose</th>\n",
              "      <th>BloodPressure</th>\n",
              "      <th>SkinThickness</th>\n",
              "      <th>Insulin</th>\n",
              "      <th>BMI</th>\n",
              "      <th>DiabetesPedigreeFunction</th>\n",
              "      <th>Age</th>\n",
              "    </tr>\n",
              "  </thead>\n",
              "  <tbody>\n",
              "    <tr>\n",
              "      <th>0</th>\n",
              "      <td>6</td>\n",
              "      <td>148</td>\n",
              "      <td>72</td>\n",
              "      <td>35</td>\n",
              "      <td>0</td>\n",
              "      <td>33.6</td>\n",
              "      <td>0.627</td>\n",
              "      <td>50</td>\n",
              "    </tr>\n",
              "    <tr>\n",
              "      <th>1</th>\n",
              "      <td>1</td>\n",
              "      <td>85</td>\n",
              "      <td>66</td>\n",
              "      <td>29</td>\n",
              "      <td>0</td>\n",
              "      <td>26.6</td>\n",
              "      <td>0.351</td>\n",
              "      <td>31</td>\n",
              "    </tr>\n",
              "    <tr>\n",
              "      <th>2</th>\n",
              "      <td>8</td>\n",
              "      <td>183</td>\n",
              "      <td>64</td>\n",
              "      <td>0</td>\n",
              "      <td>0</td>\n",
              "      <td>23.3</td>\n",
              "      <td>0.672</td>\n",
              "      <td>32</td>\n",
              "    </tr>\n",
              "    <tr>\n",
              "      <th>3</th>\n",
              "      <td>1</td>\n",
              "      <td>89</td>\n",
              "      <td>66</td>\n",
              "      <td>23</td>\n",
              "      <td>94</td>\n",
              "      <td>28.1</td>\n",
              "      <td>0.167</td>\n",
              "      <td>21</td>\n",
              "    </tr>\n",
              "    <tr>\n",
              "      <th>4</th>\n",
              "      <td>0</td>\n",
              "      <td>137</td>\n",
              "      <td>40</td>\n",
              "      <td>35</td>\n",
              "      <td>168</td>\n",
              "      <td>43.1</td>\n",
              "      <td>2.288</td>\n",
              "      <td>33</td>\n",
              "    </tr>\n",
              "  </tbody>\n",
              "</table>\n",
              "</div>"
            ],
            "text/plain": [
              "   Pregnancies  Glucose  BloodPressure  ...   BMI  DiabetesPedigreeFunction  Age\n",
              "0            6      148             72  ...  33.6                     0.627   50\n",
              "1            1       85             66  ...  26.6                     0.351   31\n",
              "2            8      183             64  ...  23.3                     0.672   32\n",
              "3            1       89             66  ...  28.1                     0.167   21\n",
              "4            0      137             40  ...  43.1                     2.288   33\n",
              "\n",
              "[5 rows x 8 columns]"
            ]
          },
          "metadata": {
            "tags": []
          },
          "execution_count": 8
        }
      ]
    },
    {
      "cell_type": "code",
      "metadata": {
        "id": "lea9KV8-OmMd",
        "colab_type": "code",
        "colab": {}
      },
      "source": [
        "#scale values\n",
        "scaler = MinMaxScaler()\n",
        "X[columns] = scaler.fit_transform(X)"
      ],
      "execution_count": 0,
      "outputs": []
    },
    {
      "cell_type": "code",
      "metadata": {
        "colab_type": "code",
        "id": "ZUj74Fj8-rHr",
        "colab": {
          "base_uri": "https://localhost:8080/",
          "height": 224
        },
        "outputId": "5da6c6dc-d81b-44f3-ba0d-d946c5d14a3a"
      },
      "source": [
        "X.head()"
      ],
      "execution_count": 10,
      "outputs": [
        {
          "output_type": "execute_result",
          "data": {
            "text/html": [
              "<div>\n",
              "<style scoped>\n",
              "    .dataframe tbody tr th:only-of-type {\n",
              "        vertical-align: middle;\n",
              "    }\n",
              "\n",
              "    .dataframe tbody tr th {\n",
              "        vertical-align: top;\n",
              "    }\n",
              "\n",
              "    .dataframe thead th {\n",
              "        text-align: right;\n",
              "    }\n",
              "</style>\n",
              "<table border=\"1\" class=\"dataframe\">\n",
              "  <thead>\n",
              "    <tr style=\"text-align: right;\">\n",
              "      <th></th>\n",
              "      <th>Pregnancies</th>\n",
              "      <th>Glucose</th>\n",
              "      <th>BloodPressure</th>\n",
              "      <th>SkinThickness</th>\n",
              "      <th>Insulin</th>\n",
              "      <th>BMI</th>\n",
              "      <th>DiabetesPedigreeFunction</th>\n",
              "      <th>Age</th>\n",
              "    </tr>\n",
              "  </thead>\n",
              "  <tbody>\n",
              "    <tr>\n",
              "      <th>0</th>\n",
              "      <td>0.352941</td>\n",
              "      <td>0.743719</td>\n",
              "      <td>0.590164</td>\n",
              "      <td>0.353535</td>\n",
              "      <td>0.000000</td>\n",
              "      <td>0.500745</td>\n",
              "      <td>0.234415</td>\n",
              "      <td>0.483333</td>\n",
              "    </tr>\n",
              "    <tr>\n",
              "      <th>1</th>\n",
              "      <td>0.058824</td>\n",
              "      <td>0.427136</td>\n",
              "      <td>0.540984</td>\n",
              "      <td>0.292929</td>\n",
              "      <td>0.000000</td>\n",
              "      <td>0.396423</td>\n",
              "      <td>0.116567</td>\n",
              "      <td>0.166667</td>\n",
              "    </tr>\n",
              "    <tr>\n",
              "      <th>2</th>\n",
              "      <td>0.470588</td>\n",
              "      <td>0.919598</td>\n",
              "      <td>0.524590</td>\n",
              "      <td>0.000000</td>\n",
              "      <td>0.000000</td>\n",
              "      <td>0.347243</td>\n",
              "      <td>0.253629</td>\n",
              "      <td>0.183333</td>\n",
              "    </tr>\n",
              "    <tr>\n",
              "      <th>3</th>\n",
              "      <td>0.058824</td>\n",
              "      <td>0.447236</td>\n",
              "      <td>0.540984</td>\n",
              "      <td>0.232323</td>\n",
              "      <td>0.111111</td>\n",
              "      <td>0.418778</td>\n",
              "      <td>0.038002</td>\n",
              "      <td>0.000000</td>\n",
              "    </tr>\n",
              "    <tr>\n",
              "      <th>4</th>\n",
              "      <td>0.000000</td>\n",
              "      <td>0.688442</td>\n",
              "      <td>0.327869</td>\n",
              "      <td>0.353535</td>\n",
              "      <td>0.198582</td>\n",
              "      <td>0.642325</td>\n",
              "      <td>0.943638</td>\n",
              "      <td>0.200000</td>\n",
              "    </tr>\n",
              "  </tbody>\n",
              "</table>\n",
              "</div>"
            ],
            "text/plain": [
              "   Pregnancies   Glucose  ...  DiabetesPedigreeFunction       Age\n",
              "0     0.352941  0.743719  ...                  0.234415  0.483333\n",
              "1     0.058824  0.427136  ...                  0.116567  0.166667\n",
              "2     0.470588  0.919598  ...                  0.253629  0.183333\n",
              "3     0.058824  0.447236  ...                  0.038002  0.000000\n",
              "4     0.000000  0.688442  ...                  0.943638  0.200000\n",
              "\n",
              "[5 rows x 8 columns]"
            ]
          },
          "metadata": {
            "tags": []
          },
          "execution_count": 10
        }
      ]
    },
    {
      "cell_type": "code",
      "metadata": {
        "id": "6tl8wIsaHio7",
        "colab_type": "code",
        "colab": {
          "base_uri": "https://localhost:8080/",
          "height": 119
        },
        "outputId": "c76b024b-0711-4d2b-b3c2-b324799432d3"
      },
      "source": [
        "y.head()"
      ],
      "execution_count": 11,
      "outputs": [
        {
          "output_type": "execute_result",
          "data": {
            "text/plain": [
              "0    1\n",
              "1    0\n",
              "2    1\n",
              "3    0\n",
              "4    1\n",
              "Name: Outcome, dtype: int64"
            ]
          },
          "metadata": {
            "tags": []
          },
          "execution_count": 11
        }
      ]
    },
    {
      "cell_type": "code",
      "metadata": {
        "colab_type": "code",
        "id": "oZJrCIjO-uK8",
        "colab": {}
      },
      "source": [
        "train_X, test_X, train_y, test_y = train_test_split(X, y, test_size=0.3)"
      ],
      "execution_count": 0,
      "outputs": []
    },
    {
      "cell_type": "code",
      "metadata": {
        "colab_type": "code",
        "id": "banVVfhp-uIJ",
        "colab": {
          "base_uri": "https://localhost:8080/",
          "height": 224
        },
        "outputId": "73b97fbb-6b5c-4b13-9de7-7c190c11b8ed"
      },
      "source": [
        "train_X.head()"
      ],
      "execution_count": 13,
      "outputs": [
        {
          "output_type": "execute_result",
          "data": {
            "text/html": [
              "<div>\n",
              "<style scoped>\n",
              "    .dataframe tbody tr th:only-of-type {\n",
              "        vertical-align: middle;\n",
              "    }\n",
              "\n",
              "    .dataframe tbody tr th {\n",
              "        vertical-align: top;\n",
              "    }\n",
              "\n",
              "    .dataframe thead th {\n",
              "        text-align: right;\n",
              "    }\n",
              "</style>\n",
              "<table border=\"1\" class=\"dataframe\">\n",
              "  <thead>\n",
              "    <tr style=\"text-align: right;\">\n",
              "      <th></th>\n",
              "      <th>Pregnancies</th>\n",
              "      <th>Glucose</th>\n",
              "      <th>BloodPressure</th>\n",
              "      <th>SkinThickness</th>\n",
              "      <th>Insulin</th>\n",
              "      <th>BMI</th>\n",
              "      <th>DiabetesPedigreeFunction</th>\n",
              "      <th>Age</th>\n",
              "    </tr>\n",
              "  </thead>\n",
              "  <tbody>\n",
              "    <tr>\n",
              "      <th>65</th>\n",
              "      <td>0.294118</td>\n",
              "      <td>0.497487</td>\n",
              "      <td>0.606557</td>\n",
              "      <td>0.272727</td>\n",
              "      <td>0.000000</td>\n",
              "      <td>0.432191</td>\n",
              "      <td>0.053373</td>\n",
              "      <td>0.183333</td>\n",
              "    </tr>\n",
              "    <tr>\n",
              "      <th>626</th>\n",
              "      <td>0.000000</td>\n",
              "      <td>0.628141</td>\n",
              "      <td>0.557377</td>\n",
              "      <td>0.000000</td>\n",
              "      <td>0.000000</td>\n",
              "      <td>0.368107</td>\n",
              "      <td>0.054654</td>\n",
              "      <td>0.000000</td>\n",
              "    </tr>\n",
              "    <tr>\n",
              "      <th>112</th>\n",
              "      <td>0.058824</td>\n",
              "      <td>0.447236</td>\n",
              "      <td>0.622951</td>\n",
              "      <td>0.343434</td>\n",
              "      <td>0.043735</td>\n",
              "      <td>0.464978</td>\n",
              "      <td>0.048676</td>\n",
              "      <td>0.033333</td>\n",
              "    </tr>\n",
              "    <tr>\n",
              "      <th>591</th>\n",
              "      <td>0.117647</td>\n",
              "      <td>0.562814</td>\n",
              "      <td>0.639344</td>\n",
              "      <td>0.505051</td>\n",
              "      <td>0.165485</td>\n",
              "      <td>0.587183</td>\n",
              "      <td>0.041418</td>\n",
              "      <td>0.050000</td>\n",
              "    </tr>\n",
              "    <tr>\n",
              "      <th>272</th>\n",
              "      <td>0.176471</td>\n",
              "      <td>0.613065</td>\n",
              "      <td>0.639344</td>\n",
              "      <td>0.000000</td>\n",
              "      <td>0.000000</td>\n",
              "      <td>0.342772</td>\n",
              "      <td>0.075149</td>\n",
              "      <td>0.316667</td>\n",
              "    </tr>\n",
              "  </tbody>\n",
              "</table>\n",
              "</div>"
            ],
            "text/plain": [
              "     Pregnancies   Glucose  ...  DiabetesPedigreeFunction       Age\n",
              "65      0.294118  0.497487  ...                  0.053373  0.183333\n",
              "626     0.000000  0.628141  ...                  0.054654  0.000000\n",
              "112     0.058824  0.447236  ...                  0.048676  0.033333\n",
              "591     0.117647  0.562814  ...                  0.041418  0.050000\n",
              "272     0.176471  0.613065  ...                  0.075149  0.316667\n",
              "\n",
              "[5 rows x 8 columns]"
            ]
          },
          "metadata": {
            "tags": []
          },
          "execution_count": 13
        }
      ]
    },
    {
      "cell_type": "code",
      "metadata": {
        "colab_type": "code",
        "id": "988ZlydE-sS7",
        "colab": {
          "base_uri": "https://localhost:8080/",
          "height": 119
        },
        "outputId": "8588aff7-f46f-46e2-acbf-c794ba365f7e"
      },
      "source": [
        "train_y.head()"
      ],
      "execution_count": 14,
      "outputs": [
        {
          "output_type": "execute_result",
          "data": {
            "text/plain": [
              "65     0\n",
              "626    0\n",
              "112    0\n",
              "591    0\n",
              "272    0\n",
              "Name: Outcome, dtype: int64"
            ]
          },
          "metadata": {
            "tags": []
          },
          "execution_count": 14
        }
      ]
    },
    {
      "cell_type": "code",
      "metadata": {
        "colab_type": "code",
        "id": "OqX5TdfS-sGl",
        "colab": {
          "base_uri": "https://localhost:8080/",
          "height": 224
        },
        "outputId": "4aaa265e-18f4-448f-f33f-fd75609bfbe3"
      },
      "source": [
        "test_X.head()"
      ],
      "execution_count": 15,
      "outputs": [
        {
          "output_type": "execute_result",
          "data": {
            "text/html": [
              "<div>\n",
              "<style scoped>\n",
              "    .dataframe tbody tr th:only-of-type {\n",
              "        vertical-align: middle;\n",
              "    }\n",
              "\n",
              "    .dataframe tbody tr th {\n",
              "        vertical-align: top;\n",
              "    }\n",
              "\n",
              "    .dataframe thead th {\n",
              "        text-align: right;\n",
              "    }\n",
              "</style>\n",
              "<table border=\"1\" class=\"dataframe\">\n",
              "  <thead>\n",
              "    <tr style=\"text-align: right;\">\n",
              "      <th></th>\n",
              "      <th>Pregnancies</th>\n",
              "      <th>Glucose</th>\n",
              "      <th>BloodPressure</th>\n",
              "      <th>SkinThickness</th>\n",
              "      <th>Insulin</th>\n",
              "      <th>BMI</th>\n",
              "      <th>DiabetesPedigreeFunction</th>\n",
              "      <th>Age</th>\n",
              "    </tr>\n",
              "  </thead>\n",
              "  <tbody>\n",
              "    <tr>\n",
              "      <th>326</th>\n",
              "      <td>0.058824</td>\n",
              "      <td>0.613065</td>\n",
              "      <td>0.524590</td>\n",
              "      <td>0.323232</td>\n",
              "      <td>0.184397</td>\n",
              "      <td>0.523100</td>\n",
              "      <td>0.262169</td>\n",
              "      <td>0.150000</td>\n",
              "    </tr>\n",
              "    <tr>\n",
              "      <th>436</th>\n",
              "      <td>0.705882</td>\n",
              "      <td>0.703518</td>\n",
              "      <td>0.696721</td>\n",
              "      <td>0.333333</td>\n",
              "      <td>0.000000</td>\n",
              "      <td>0.557377</td>\n",
              "      <td>0.070880</td>\n",
              "      <td>0.333333</td>\n",
              "    </tr>\n",
              "    <tr>\n",
              "      <th>93</th>\n",
              "      <td>0.235294</td>\n",
              "      <td>0.673367</td>\n",
              "      <td>0.590164</td>\n",
              "      <td>0.000000</td>\n",
              "      <td>0.000000</td>\n",
              "      <td>0.354694</td>\n",
              "      <td>0.084970</td>\n",
              "      <td>0.650000</td>\n",
              "    </tr>\n",
              "    <tr>\n",
              "      <th>499</th>\n",
              "      <td>0.352941</td>\n",
              "      <td>0.773869</td>\n",
              "      <td>0.606557</td>\n",
              "      <td>0.323232</td>\n",
              "      <td>0.228132</td>\n",
              "      <td>0.436662</td>\n",
              "      <td>0.324936</td>\n",
              "      <td>0.300000</td>\n",
              "    </tr>\n",
              "    <tr>\n",
              "      <th>287</th>\n",
              "      <td>0.058824</td>\n",
              "      <td>0.597990</td>\n",
              "      <td>0.704918</td>\n",
              "      <td>0.393939</td>\n",
              "      <td>0.260047</td>\n",
              "      <td>0.679583</td>\n",
              "      <td>0.311699</td>\n",
              "      <td>0.133333</td>\n",
              "    </tr>\n",
              "  </tbody>\n",
              "</table>\n",
              "</div>"
            ],
            "text/plain": [
              "     Pregnancies   Glucose  ...  DiabetesPedigreeFunction       Age\n",
              "326     0.058824  0.613065  ...                  0.262169  0.150000\n",
              "436     0.705882  0.703518  ...                  0.070880  0.333333\n",
              "93      0.235294  0.673367  ...                  0.084970  0.650000\n",
              "499     0.352941  0.773869  ...                  0.324936  0.300000\n",
              "287     0.058824  0.597990  ...                  0.311699  0.133333\n",
              "\n",
              "[5 rows x 8 columns]"
            ]
          },
          "metadata": {
            "tags": []
          },
          "execution_count": 15
        }
      ]
    },
    {
      "cell_type": "code",
      "metadata": {
        "colab_type": "code",
        "id": "Nil5Y1Vy-r1G",
        "colab": {
          "base_uri": "https://localhost:8080/",
          "height": 119
        },
        "outputId": "94238233-fb1a-4291-ed67-7efe8a310ee7"
      },
      "source": [
        "test_y.head()"
      ],
      "execution_count": 16,
      "outputs": [
        {
          "output_type": "execute_result",
          "data": {
            "text/plain": [
              "326    1\n",
              "436    0\n",
              "93     1\n",
              "499    0\n",
              "287    1\n",
              "Name: Outcome, dtype: int64"
            ]
          },
          "metadata": {
            "tags": []
          },
          "execution_count": 16
        }
      ]
    },
    {
      "cell_type": "code",
      "metadata": {
        "colab_type": "code",
        "id": "qmaTaaGB-roE",
        "colab": {}
      },
      "source": [
        "#generate summary\n",
        "train_mean_pos = train_X[train_y==1].mean()\n",
        "train_std_pos = train_X[train_y==1].std()\n",
        "train_mean_neg = train_X[train_y==0].mean()\n",
        "train_std_neg = train_X[train_y==0].std()"
      ],
      "execution_count": 0,
      "outputs": []
    },
    {
      "cell_type": "code",
      "metadata": {
        "id": "3XWUc3Y1_3OX",
        "colab_type": "code",
        "colab": {
          "base_uri": "https://localhost:8080/",
          "height": 170
        },
        "outputId": "8ec7eff8-e2e7-433f-cf87-7e963cafa27a"
      },
      "source": [
        "train_mean_pos"
      ],
      "execution_count": 18,
      "outputs": [
        {
          "output_type": "execute_result",
          "data": {
            "text/plain": [
              "Pregnancies                 0.292873\n",
              "Glucose                     0.719098\n",
              "BloodPressure               0.579712\n",
              "SkinThickness               0.217145\n",
              "Insulin                     0.132657\n",
              "BMI                         0.520458\n",
              "DiabetesPedigreeFunction    0.202420\n",
              "Age                         0.270459\n",
              "dtype: float64"
            ]
          },
          "metadata": {
            "tags": []
          },
          "execution_count": 18
        }
      ]
    },
    {
      "cell_type": "code",
      "metadata": {
        "id": "j2EeCpMD_0x0",
        "colab_type": "code",
        "colab": {
          "base_uri": "https://localhost:8080/",
          "height": 170
        },
        "outputId": "62f6585a-dc78-4df6-c38a-d460568c07a3"
      },
      "source": [
        "train_std_pos"
      ],
      "execution_count": 19,
      "outputs": [
        {
          "output_type": "execute_result",
          "data": {
            "text/plain": [
              "Pregnancies                 0.222836\n",
              "Glucose                     0.149655\n",
              "BloodPressure               0.174486\n",
              "SkinThickness               0.169153\n",
              "Insulin                     0.176559\n",
              "BMI                         0.097911\n",
              "DiabetesPedigreeFunction    0.156397\n",
              "Age                         0.185907\n",
              "dtype: float64"
            ]
          },
          "metadata": {
            "tags": []
          },
          "execution_count": 19
        }
      ]
    },
    {
      "cell_type": "code",
      "metadata": {
        "id": "DDITv26B__S5",
        "colab_type": "code",
        "colab": {
          "base_uri": "https://localhost:8080/",
          "height": 170
        },
        "outputId": "99a00c98-16a5-4b21-98d7-cd5c62ba2c42"
      },
      "source": [
        "train_mean_neg"
      ],
      "execution_count": 20,
      "outputs": [
        {
          "output_type": "execute_result",
          "data": {
            "text/plain": [
              "Pregnancies                 0.189993\n",
              "Glucose                     0.550338\n",
              "BloodPressure               0.553349\n",
              "SkinThickness               0.202920\n",
              "Insulin                     0.085745\n",
              "BMI                         0.451445\n",
              "DiabetesPedigreeFunction    0.151501\n",
              "Age                         0.154693\n",
              "dtype: float64"
            ]
          },
          "metadata": {
            "tags": []
          },
          "execution_count": 20
        }
      ]
    },
    {
      "cell_type": "code",
      "metadata": {
        "id": "rSaq-zJdAB3I",
        "colab_type": "code",
        "colab": {
          "base_uri": "https://localhost:8080/",
          "height": 170
        },
        "outputId": "9ec8e2a7-a400-4ebc-e885-f477edf2404b"
      },
      "source": [
        "train_std_neg"
      ],
      "execution_count": 21,
      "outputs": [
        {
          "output_type": "execute_result",
          "data": {
            "text/plain": [
              "Pregnancies                 0.176714\n",
              "Glucose                     0.125504\n",
              "BloodPressure               0.153134\n",
              "SkinThickness               0.150250\n",
              "Insulin                     0.125629\n",
              "BMI                         0.116693\n",
              "DiabetesPedigreeFunction    0.129758\n",
              "Age                         0.181855\n",
              "dtype: float64"
            ]
          },
          "metadata": {
            "tags": []
          },
          "execution_count": 21
        }
      ]
    },
    {
      "cell_type": "code",
      "metadata": {
        "id": "A653-DtXAtei",
        "colab_type": "code",
        "colab": {}
      },
      "source": [
        "summary = { \"train_mean_pos\": train_mean_pos.tolist() , \"train_std_pos\": train_std_pos.tolist(), \n",
        "           \"train_mean_neg\": train_mean_neg.tolist(), \"train_std_neg\": train_std_neg.tolist()}"
      ],
      "execution_count": 0,
      "outputs": []
    },
    {
      "cell_type": "code",
      "metadata": {
        "id": "6sQm2wSvBBsj",
        "colab_type": "code",
        "colab": {
          "base_uri": "https://localhost:8080/",
          "height": 561
        },
        "outputId": "7e1b05ef-fd22-4c9d-b0ce-05a305d59642"
      },
      "source": [
        "summary"
      ],
      "execution_count": 23,
      "outputs": [
        {
          "output_type": "execute_result",
          "data": {
            "text/plain": [
              "{'train_mean_neg': [0.18999323867478068,\n",
              "  0.5503378963784443,\n",
              "  0.5533493499152067,\n",
              "  0.2029200046441424,\n",
              "  0.08574495258281027,\n",
              "  0.45144491837538764,\n",
              "  0.1515013202194803,\n",
              "  0.1546934865900383],\n",
              " 'train_mean_pos': [0.2928727046374106,\n",
              "  0.7190981361835632,\n",
              "  0.5797120305317027,\n",
              "  0.21714499492277278,\n",
              "  0.13265663502070119,\n",
              "  0.520458290950094,\n",
              "  0.20242048807377575,\n",
              "  0.2704585537918871],\n",
              " 'train_std_neg': [0.17671365966857203,\n",
              "  0.12550350689940595,\n",
              "  0.1531336966363326,\n",
              "  0.15024965500570722,\n",
              "  0.1256291908651661,\n",
              "  0.11669339529480878,\n",
              "  0.12975813952563878,\n",
              "  0.1818545774375084],\n",
              " 'train_std_pos': [0.22283649204068565,\n",
              "  0.14965523787230273,\n",
              "  0.17448571181611372,\n",
              "  0.16915261832562617,\n",
              "  0.17655949654410083,\n",
              "  0.09791097352563335,\n",
              "  0.15639694595626627,\n",
              "  0.18590721002051983]}"
            ]
          },
          "metadata": {
            "tags": []
          },
          "execution_count": 23
        }
      ]
    },
    {
      "cell_type": "code",
      "metadata": {
        "id": "9OfQxddHGVit",
        "colab_type": "code",
        "colab": {}
      },
      "source": [
        "import numpy as np\n",
        "def cond_prob(x, mn, stddv):  #value , mean, standard dev| this is that fancy formula: 1/root(sigma^2)....\n",
        "    varnc = stddv*stddv\n",
        "    p = 1/(np.sqrt(2*np.pi*varnc)) * np.exp((-(x-mn)**2)/(2*varnc))\n",
        "    return p\n"
      ],
      "execution_count": 0,
      "outputs": []
    },
    {
      "cell_type": "code",
      "metadata": {
        "id": "ZQr814itBl9o",
        "colab_type": "code",
        "colab": {}
      },
      "source": [
        "def predict(row, summary):\n",
        "\n",
        "  #prior probability obtained as probability of class\n",
        "  #i.e. we find fraction of positive samples present in the whole dataset\n",
        "  prob_positive=len(summary[\"train_mean_pos\"])/( len(summary[\"train_mean_pos\"])+len(summary[\"train_mean_neg\"]) )\n",
        "  #then multiply it with conditional probability of each feature\n",
        "  for i in range(0, len(row)):\n",
        "    prob_positive = prob_positive * cond_prob(row[i],summary[\"train_mean_pos\"][i], summary[\"train_std_pos\"][i])\n",
        "  \n",
        "\n",
        "  #exact same process for negative\n",
        "  prob_negative=len(summary[\"train_mean_neg\"])/( len(summary[\"train_mean_pos\"])+len(summary[\"train_mean_neg\"]) )\n",
        "  for i in range(0, len(row)):\n",
        "    prob_negative = prob_negative * cond_prob(row[i],summary[\"train_mean_neg\"][i], summary[\"train_std_neg\"][i])\n",
        "  \n",
        "  return [prob_positive, prob_negative]"
      ],
      "execution_count": 0,
      "outputs": []
    },
    {
      "cell_type": "code",
      "metadata": {
        "id": "XbhkGL0KAeYQ",
        "colab_type": "code",
        "colab": {}
      },
      "source": [
        "predictions_raw = []\n",
        "for row in test_X.values.tolist():\n",
        "  predictions_raw.append(predict(row, summary))"
      ],
      "execution_count": 0,
      "outputs": []
    },
    {
      "cell_type": "code",
      "metadata": {
        "id": "CGfbhqScJKfm",
        "colab_type": "code",
        "colab": {
          "base_uri": "https://localhost:8080/",
          "height": 1000
        },
        "outputId": "7eeead04-2a38-4f06-cbc4-d2e978519478"
      },
      "source": [
        "predictions_raw"
      ],
      "execution_count": 27,
      "outputs": [
        {
          "output_type": "execute_result",
          "data": {
            "text/plain": [
              "[[163.90088819085588, 367.10479998948546],\n",
              " [34.00861261609767, 1.4384665104242722],\n",
              " [4.425600871890701, 5.123001830921789],\n",
              " [206.6240589772129, 25.79406214675595],\n",
              " [14.803617181102044, 9.180193310841872],\n",
              " [96.85171317838126, 99.78844590841483],\n",
              " [13.254382839923569, 563.0630883259663],\n",
              " [9.901446376581942e-08, 3.119398230048949e-05],\n",
              " [5.23761577869156, 33.98232623764374],\n",
              " [179.73156634166943, 20.097741075953333],\n",
              " [1.3214350681398426, 2.815592481697422],\n",
              " [0.0019699981520696942, 0.014621885060386764],\n",
              " [3.1179051011132577, 226.72544545030127],\n",
              " [216.20486185146143, 338.357704343169],\n",
              " [230.8345971765233, 138.49547660791038],\n",
              " [41.23515613323091, 71.06053084973038],\n",
              " [6.413946184853324, 214.8771918809747],\n",
              " [25.992364314368082, 669.574427604463],\n",
              " [46.555909936869526, 283.12976516544154],\n",
              " [0.8900352224296428, 0.31124670587155484],\n",
              " [33.7444219664347, 623.0920201796538],\n",
              " [1.0426765961262394, 3.3169114273841807],\n",
              " [0.21328488224833478, 0.07493673497418983],\n",
              " [5.530777084396035, 4.532188419181782],\n",
              " [20.105180282666172, 15.87522769146279],\n",
              " [7.136866114831677, 350.4583357421663],\n",
              " [38.29093119516919, 20.248839993861633],\n",
              " [1.4864418270069795, 0.23957057883715463],\n",
              " [0.43198544065596317, 0.0034011093960439236],\n",
              " [2.4326176706823426, 3.1868524021176974],\n",
              " [140.75471473289102, 286.45170707995123],\n",
              " [26.045219985108986, 339.04052637740205],\n",
              " [4.892672273344929, 1.9504686128929114],\n",
              " [7.2516131779440265, 0.32612531306115256],\n",
              " [39.977879381260706, 667.8618511641884],\n",
              " [3.0935805400776952, 0.29184267489001153],\n",
              " [35.38268982842393, 0.13150357096801665],\n",
              " [48.45643875985162, 138.11864031701438],\n",
              " [1.8550127341568265, 201.88788490593913],\n",
              " [31.41737119818378, 311.99415929324385],\n",
              " [52.035647445767324, 261.79799379920865],\n",
              " [52.318462248856676, 91.13672976103084],\n",
              " [69.63856308282793, 247.93652618781795],\n",
              " [14.44884970333063, 5.220058903738665],\n",
              " [30.80020961865298, 892.9403999948348],\n",
              " [0.06762456688720216, 0.06749557925114306],\n",
              " [8.7279699882266, 42.71902983757913],\n",
              " [8.294547723031362, 4.681210120603299],\n",
              " [32.75305378129437, 256.0775728766891],\n",
              " [33.752346549035835, 157.85939747408378],\n",
              " [8.339210150807803, 9.458836174364713],\n",
              " [64.80668674544171, 474.73525104729464],\n",
              " [26.56905577000069, 35.25602632923223],\n",
              " [8.141509328535077, 6.259319603009865],\n",
              " [28.738861201086934, 375.47470914049734],\n",
              " [1.946470786609981, 0.10629044728327747],\n",
              " [24.12557592541691, 343.0814839078817],\n",
              " [47.37336818529877, 107.9429659023149],\n",
              " [1.9780354468043, 139.54885691996827],\n",
              " [10.058162882725115, 212.71066783256185],\n",
              " [26.081728407777472, 6.508262846346471],\n",
              " [92.90333716728279, 194.80112237156936],\n",
              " [10.118173592347844, 4.127733730867133],\n",
              " [1.4165113007270835, 121.30932562576729],\n",
              " [140.41579611709943, 976.293010370913],\n",
              " [5.074989734516125, 0.13935242456021746],\n",
              " [14.336279902756194, 29.346121787475905],\n",
              " [70.45831841466337, 147.9004544838169],\n",
              " [29.488817066601257, 25.44329777348342],\n",
              " [0.0640219709533206, 0.2272897620081821],\n",
              " [0.00021388984387442936, 7.70192843061804e-10],\n",
              " [26.616804134409477, 805.6385772868849],\n",
              " [11.88658004385579, 1.604817416203725],\n",
              " [43.82560255526581, 127.1822342878622],\n",
              " [0.0004453626947922193, 0.046552499597689784],\n",
              " [1.3021152666576505, 0.7572124072640539],\n",
              " [1.325516632645639, 0.05606625514916238],\n",
              " [11.896899988414479, 298.899387560273],\n",
              " [88.78417943767256, 6.153791068628857],\n",
              " [2.651635849871114, 1.779310607431059],\n",
              " [33.79652775612234, 1.1110713577897746],\n",
              " [44.56759691065143, 528.7993222621789],\n",
              " [10.206785532107396, 184.39494908277484],\n",
              " [18.268640953134174, 569.7661697760128],\n",
              " [176.20277252098776, 357.6427843076474],\n",
              " [37.837503992812216, 375.202099290101],\n",
              " [0.02040476280065607, 1.8869061329290867e-05],\n",
              " [100.55270931730418, 63.17573666490553],\n",
              " [58.17919325559372, 757.2188003503574],\n",
              " [1.5771150515631616, 30.335492891629126],\n",
              " [31.663237016753627, 4.733198937017501],\n",
              " [29.456215803597015, 18.08155871374964],\n",
              " [26.21755064173992, 276.37964867704903],\n",
              " [80.09590720068458, 713.0673652118517],\n",
              " [5.322991986550033, 490.22873328570364],\n",
              " [42.88294658760984, 2.113063885901739],\n",
              " [207.18822627241838, 24.002410880776576],\n",
              " [45.54383995328859, 1.1414929059180365],\n",
              " [54.7194109900554, 59.563886996483426],\n",
              " [24.588400948691703, 110.220964879497],\n",
              " [2.8150181400915524, 0.27260973483836465],\n",
              " [20.24341489203178, 271.0906232958009],\n",
              " [22.510493495742242, 787.2769372460926],\n",
              " [12.967437441482216, 4.0814157190131874],\n",
              " [0.4638316218566522, 65.7225268385525],\n",
              " [85.78495781681923, 28.741440634504],\n",
              " [0.36537561581901545, 0.18669259102644659],\n",
              " [20.37996710497999, 660.8123514890586],\n",
              " [13.249549161662351, 137.41943226761722],\n",
              " [66.77858437735442, 737.4958441334346],\n",
              " [6.202212699997557, 66.0699932036032],\n",
              " [68.24845423397785, 712.797702714654],\n",
              " [9.032669290963417, 232.61510171692157],\n",
              " [1.1641735108001183, 62.12668474411042],\n",
              " [5.594935304637716, 27.777916809692307],\n",
              " [27.090684181037542, 6.446255162650409],\n",
              " [13.055448681801145, 0.2932459416994],\n",
              " [0.0015991186101769923, 0.004867738062960176],\n",
              " [29.357729008370878, 40.16591826548296],\n",
              " [7.889096155776708, 5.327027097165687],\n",
              " [72.99120757267772, 538.1021190048718],\n",
              " [0.1332476444114233, 2.352256277168714],\n",
              " [10.811950878936836, 4.644566631452356],\n",
              " [0.00013190161486004907, 2.461314449301091e-08],\n",
              " [0.581348688324061, 122.39364061811054],\n",
              " [33.15548440020177, 364.4638390225135],\n",
              " [233.5587626308294, 10.553041201940847],\n",
              " [0.6469892651713804, 0.16375196656311883],\n",
              " [48.27952800271527, 0.9505727884936978],\n",
              " [138.2162323612186, 303.1379234073548],\n",
              " [56.04936597439232, 277.04219999484303],\n",
              " [0.3155346615289993, 0.20291736460181642],\n",
              " [3.1706772111819785, 1.8638440068451583],\n",
              " [9.968674264892531, 69.38402588597162],\n",
              " [18.856138000076506, 86.14880662688486],\n",
              " [90.74898453978123, 326.79065705245483],\n",
              " [32.94720154276838, 414.16558999580576],\n",
              " [21.198076664554655, 23.732879898985132],\n",
              " [60.6497583239405, 284.0997013679977],\n",
              " [26.33765252851599, 0.9123650617414257],\n",
              " [105.86068794497146, 10.563137900994795],\n",
              " [44.23665445075842, 729.8166490302192],\n",
              " [33.00122229089093, 237.23503133006759],\n",
              " [11.634469756761137, 185.98533782632902],\n",
              " [3.6051270240372104, 19.87391515843239],\n",
              " [16.492864185689704, 254.26089048854772],\n",
              " [0.11225759362523381, 0.40747405458842806],\n",
              " [134.83327314767567, 7.998951918709269],\n",
              " [104.3772030202862, 22.573155537846482],\n",
              " [4.963328876001206, 0.05298317889556801],\n",
              " [2.564607725066752e-07, 3.9132105633401444e-05],\n",
              " [1.5065494123294298, 0.04453763322980782],\n",
              " [5.768993031449879, 78.92039557968037],\n",
              " [44.36667178260894, 5.114125530463226],\n",
              " [1.794601673876392, 23.35169743802894],\n",
              " [3.091460247082732, 0.02529705106717352],\n",
              " [0.16396876509846334, 0.20070767857482005],\n",
              " [16.9542897738422, 11.710715918106915],\n",
              " [0.0006320496030224076, 0.031983044213604414],\n",
              " [75.13603040114961, 509.7852698911834],\n",
              " [24.62382498418856, 605.2469680391519],\n",
              " [15.669888393056143, 24.62644506460533],\n",
              " [2.6798905518269027, 115.03162159505001],\n",
              " [98.61003190488663, 5.952582526839171],\n",
              " [3.986662190422518, 7.794824821290989],\n",
              " [114.97785047622219, 811.6157163157652],\n",
              " [3.2851901452487438, 1.0202285155973616],\n",
              " [85.14930997451604, 257.6191964553006],\n",
              " [57.6689141535836, 89.01294787161413],\n",
              " [140.91366815613316, 381.18608787472334],\n",
              " [83.23164421590435, 17.743230353922794],\n",
              " [14.539005794018598, 2.2705540413638015],\n",
              " [8.856855547416023, 36.79339952873948],\n",
              " [41.709266408374475, 116.29603915137537],\n",
              " [9.667873151139677, 130.25372787725956],\n",
              " [9.354300137987774, 289.9288988927855],\n",
              " [4.6149350817883276e-05, 0.00014732063160371995],\n",
              " [3.1254101563974634, 44.0739309948813],\n",
              " [5.793919266747212e-09, 6.591065234213293e-05],\n",
              " [116.30521488352701, 244.79867170561195],\n",
              " [26.811755300006084, 139.96574418219996],\n",
              " [2.571877928680911, 68.29410034472788],\n",
              " [18.282623499912383, 200.1786299500352],\n",
              " [44.601478573442364, 461.2747497596146],\n",
              " [2.2955652124638033, 0.08591802485898781],\n",
              " [3.616348152894129, 7.902795636684073],\n",
              " [43.02113003320922, 11.555377666336936],\n",
              " [41.18716641478094, 96.93427136270554],\n",
              " [62.76050251357221, 659.9266859425302],\n",
              " [30.39754926450742, 256.0484002085926],\n",
              " [97.15256804983147, 5.312532040563062],\n",
              " [46.8538327152229, 400.89262445112365],\n",
              " [35.064966416810286, 9.791133207857348],\n",
              " [12.105355569730309, 327.34003859516775],\n",
              " [35.12496343940799, 600.0544599185737],\n",
              " [25.205195600461415, 31.539732662792993],\n",
              " [7.79748390254481, 278.2962392924622],\n",
              " [1.6248161297521886, 0.006714702880740456],\n",
              " [92.40080303967609, 38.17386272940567],\n",
              " [26.644352220270175, 1.0040920776698339],\n",
              " [1.7723357489499727, 1.1291435987345808],\n",
              " [69.26935355005246, 13.35841330651631],\n",
              " [3.5310144785924056, 12.474175964671657],\n",
              " [5.862393892292856, 0.604117968118302],\n",
              " [48.398857195138795, 47.1601950071582],\n",
              " [0.815407411577231, 0.0023757016502699768],\n",
              " [67.36549223794293, 485.6611716870653],\n",
              " [12.109617664487775, 149.42444178065006],\n",
              " [82.05788878524528, 0.555608117886507],\n",
              " [47.74862386900232, 177.57224051276407],\n",
              " [0.3256888141617186, 89.91930800479454],\n",
              " [135.88820799364032, 302.4436891833726],\n",
              " [6.822214011626126, 0.01378989217479537],\n",
              " [3.494305694890607, 0.3421524305081115],\n",
              " [0.07300648939631055, 0.5913425300162412],\n",
              " [9.587728149110686e-05, 0.015451798893115388],\n",
              " [17.104171226070935, 189.2398731690277],\n",
              " [33.426444745613736, 215.8519732133231],\n",
              " [0.2522932758452296, 0.03671726568726153],\n",
              " [39.03115716852449, 206.04967240283665],\n",
              " [211.16859293111492, 49.10781126841531],\n",
              " [4.059602469464708, 2.3514098014367435],\n",
              " [105.42889561420374, 64.4468361999118],\n",
              " [122.92742447093924, 14.886050052824626],\n",
              " [113.16880542418616, 43.39861496356814],\n",
              " [103.35156354576333, 190.89378455114343],\n",
              " [73.62184540234404, 0.5247397685725703],\n",
              " [154.89743965709016, 311.2404648914217],\n",
              " [4.919426983476602, 363.0523740378368],\n",
              " [67.7684521521314, 11.125388852903072],\n",
              " [14.586973544578601, 3.728500319787541]]"
            ]
          },
          "metadata": {
            "tags": []
          },
          "execution_count": 27
        }
      ]
    },
    {
      "cell_type": "code",
      "metadata": {
        "id": "4I8_m_yDJZJb",
        "colab_type": "code",
        "colab": {}
      },
      "source": [
        "predictions = []\n",
        "for row in predictions_raw:\n",
        "  if(row[0]>row[1]):\n",
        "    predictions.append(1)\n",
        "  else:\n",
        "    predictions.append(0)"
      ],
      "execution_count": 0,
      "outputs": []
    },
    {
      "cell_type": "code",
      "metadata": {
        "id": "9KUQuYfALU8x",
        "colab_type": "code",
        "colab": {
          "base_uri": "https://localhost:8080/",
          "height": 51
        },
        "outputId": "1b6e97b8-1f06-4d09-c0b1-4774b217e305"
      },
      "source": [
        "confusion_matrix(test_y.tolist(), predictions)"
      ],
      "execution_count": 29,
      "outputs": [
        {
          "output_type": "execute_result",
          "data": {
            "text/plain": [
              "array([[111,  41],\n",
              "       [ 30,  49]])"
            ]
          },
          "metadata": {
            "tags": []
          },
          "execution_count": 29
        }
      ]
    }
  ]
}