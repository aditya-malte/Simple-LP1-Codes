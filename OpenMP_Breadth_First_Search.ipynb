{
  "nbformat": 4,
  "nbformat_minor": 0,
  "metadata": {
    "colab": {
      "name": "OpenMP_Breadth_First_Search.ipynb",
      "provenance": [],
      "collapsed_sections": [],
      "include_colab_link": true
    },
    "kernelspec": {
      "name": "python3",
      "display_name": "Python 3"
    },
    "accelerator": "GPU"
  },
  "cells": [
    {
      "cell_type": "markdown",
      "metadata": {
        "id": "view-in-github",
        "colab_type": "text"
      },
      "source": [
        "<a href=\"https://colab.research.google.com/github/aditya-malte/Simple-LP1-Codes/blob/master/OpenMP_Breadth_First_Search.ipynb\" target=\"_parent\"><img src=\"https://colab.research.google.com/assets/colab-badge.svg\" alt=\"Open In Colab\"/></a>"
      ]
    },
    {
      "cell_type": "code",
      "metadata": {
        "id": "F7jEgl1h34eb",
        "colab_type": "code",
        "colab": {}
      },
      "source": [
        "code = \"\"\"\n",
        "#include<stdio.h>\n",
        "#include \"omp.h\"\n",
        "int q[1000];\n",
        "int visited[7];\n",
        "int local_q;\n",
        "\n",
        "void bfs(int adj_matrix[7][7], int first, int last, int q[], int n_nodes)\n",
        "{\n",
        "\t\tif(first==last)\n",
        "\t\t\treturn;\n",
        "\n",
        "\t\t//pop first element\n",
        "\t\tint cur_node = q[first++];\n",
        "\t\t\n",
        "\t\tprintf(\"%d, \", cur_node);\n",
        "\t\tomp_set_num_threads(3);\n",
        "\t\t#pragma omp parallel for shared(visited)\n",
        "\t\tfor(int i=0; i<n_nodes; i++)\n",
        "\t\t{\n",
        "\t\t\tif(adj_matrix[cur_node][i]==1 && visited[i]==0)\n",
        "\t\t\t{\n",
        "\t\t\t\tq[last++] = i;\n",
        "\t\t\t\tvisited[i]=1;\n",
        "\t\t\t}\n",
        "\t\t}\n",
        "\tbfs(adj_matrix, first, last, q, n_nodes);\n",
        "}\n",
        "\n",
        "int main()\n",
        "{\n",
        "\tint first = -1;\t//index of first element\n",
        "\tint last = 0;\t//index of next insertion\n",
        "\tint n_nodes = 7;\n",
        "\tfor(int i=0; i<n_nodes; i++)\n",
        "\t{\n",
        "\t\tvisited[i] = 0;\n",
        "\t}\n",
        "\t//shows graph connections\n",
        "\tint adj_matrix[7][7] = {\n",
        "\t\t\t\t\t\t\t\t\t\t\t\t\t{0,  1  ,1  ,0  ,0  ,0  ,0},\n",
        "\t\t\t\t\t\t\t\t\t\t\t\t\t{1\t,0\t,1\t,1\t,0\t,0\t,0},\n",
        "\t\t\t\t\t\t\t\t\t\t\t\t\t{1\t,1\t,0\t,0\t,1\t,0\t,0},\n",
        "\t\t\t\t\t\t\t\t\t\t\t\t\t{0\t,1\t,0\t,0\t,1\t,0\t,0},\n",
        "\t\t\t\t\t\t\t\t\t\t\t\t\t{0\t,0\t,1\t,1\t,0\t,1\t,0},\n",
        "\t\t\t\t\t\t\t\t\t\t\t\t\t{0\t,0\t,0\t,0\t,1\t,0\t,1},\n",
        "\t\t\t\t\t\t\t\t\t\t\t\t\t{0\t,0\t,0\t,0\t,0\t,1\t,0}\n",
        "\t\t\t\t\t\t\t\t\t\t\t\t\t};\n",
        "\n",
        "\tint start_node = 3;\t//set start node as 1\n",
        "\tq[last++] = start_node;\n",
        "\tfirst++;\n",
        "\tvisited[start_node] = 1;\n",
        "\t\n",
        "\tint cur_node;\n",
        "\tbfs(adj_matrix, first, last, q, n_nodes);\n",
        "\t/*\n",
        "\twhile(first != last)\n",
        "\t{\n",
        "\t\t//pop first element\n",
        "\t\tcur_node = q[first++];\n",
        "\t\t\n",
        "\t\tprintf(\"%d, \", cur_node);\n",
        "\t\tfor(int i=0; i<n_nodes; i++)\n",
        "\t\t{\n",
        "\t\t\tif(adj_matrix[cur_node][i]==1 && visited[i]==0)\n",
        "\t\t\t{\n",
        "\t\t\t\tq[last++] = i;\n",
        "\t\t\t\tvisited[i]=1;\n",
        "\t\t\t}\n",
        "\t\t}\n",
        "\n",
        "\t}\t\n",
        "\t*/\n",
        "\treturn 0;\n",
        "}\n",
        "\"\"\""
      ],
      "execution_count": 0,
      "outputs": []
    },
    {
      "cell_type": "code",
      "metadata": {
        "id": "9IyLislm4zYZ",
        "colab_type": "code",
        "colab": {}
      },
      "source": [
        "text_file = open(\"code.c\", \"w\")\n",
        "text_file.write(code)\n",
        "text_file.close()"
      ],
      "execution_count": 0,
      "outputs": []
    },
    {
      "cell_type": "code",
      "metadata": {
        "id": "QOqdGUI8vx9I",
        "colab_type": "code",
        "colab": {}
      },
      "source": [
        "!gcc -fopenmp code.c"
      ],
      "execution_count": 0,
      "outputs": []
    },
    {
      "cell_type": "code",
      "metadata": {
        "id": "rxhbBdV68Jvx",
        "colab_type": "code",
        "outputId": "04e97b8d-224a-4262-c040-d90481c4b258",
        "colab": {
          "base_uri": "https://localhost:8080/",
          "height": 85
        }
      },
      "source": [
        "!time ./a.out"
      ],
      "execution_count": 0,
      "outputs": [
        {
          "output_type": "stream",
          "text": [
            "3, 1, 4, 0, 2, 5, 6, \n",
            "real\t0m0.003s\n",
            "user\t0m0.001s\n",
            "sys\t0m0.001s\n"
          ],
          "name": "stdout"
        }
      ]
    },
    {
      "cell_type": "code",
      "metadata": {
        "id": "qSFjsSEG4tDH",
        "colab_type": "code",
        "colab": {}
      },
      "source": [
        "#!mpicc code.c"
      ],
      "execution_count": 0,
      "outputs": []
    },
    {
      "cell_type": "code",
      "metadata": {
        "id": "7L6NClHt5Iu7",
        "colab_type": "code",
        "colab": {}
      },
      "source": [
        "#!mpirun --allow-run-as-root -np 4 ./a.out "
      ],
      "execution_count": 0,
      "outputs": []
    }
  ]
}