{
  "nbformat": 4,
  "nbformat_minor": 0,
  "metadata": {
    "colab": {
      "name": "CUDA_Parrallel_Reduction.ipynb",
      "provenance": [],
      "collapsed_sections": [],
      "include_colab_link": true
    },
    "kernelspec": {
      "name": "python3",
      "display_name": "Python 3"
    },
    "accelerator": "GPU"
  },
  "cells": [
    {
      "cell_type": "markdown",
      "metadata": {
        "id": "view-in-github",
        "colab_type": "text"
      },
      "source": [
        "<a href=\"https://colab.research.google.com/github/aditya-malte/Simple-LP1-Codes/blob/master/CUDA_Parrallel_Reduction.ipynb\" target=\"_parent\"><img src=\"https://colab.research.google.com/assets/colab-badge.svg\" alt=\"Open In Colab\"/></a>"
      ]
    },
    {
      "cell_type": "markdown",
      "metadata": {
        "id": "QG83fqWNsOz2",
        "colab_type": "text"
      },
      "source": [
        "##Select Runtime as GPU"
      ]
    },
    {
      "cell_type": "code",
      "metadata": {
        "id": "od_h5OFyWUOu",
        "colab_type": "code",
        "outputId": "f6693b26-d929-42b5-fb34-2376b6815d4c",
        "colab": {
          "base_uri": "https://localhost:8080/",
          "height": 85
        }
      },
      "source": [
        "!nvcc --version"
      ],
      "execution_count": 1,
      "outputs": [
        {
          "output_type": "stream",
          "text": [
            "nvcc: NVIDIA (R) Cuda compiler driver\n",
            "Copyright (c) 2005-2018 NVIDIA Corporation\n",
            "Built on Sat_Aug_25_21:08:01_CDT_2018\n",
            "Cuda compilation tools, release 10.0, V10.0.130\n"
          ],
          "name": "stdout"
        }
      ]
    },
    {
      "cell_type": "code",
      "metadata": {
        "id": "jvvfu1PvWX8p",
        "colab_type": "code",
        "colab": {}
      },
      "source": [
        "code = \"\"\"\n",
        "#include <iostream>\n",
        "using namespace std;\n",
        "\n",
        "__global__ void sum(int* input) //this code runs on GPU\n",
        "{\n",
        "    const int tid = threadIdx.x;    //get thread id\n",
        "    int step_size = 1; //set initial step_size\n",
        "    int number_of_threads = blockDim.x; //get number of threads in block\n",
        "    while (number_of_threads > 0)\n",
        "    {\n",
        "        if (tid < number_of_threads)\n",
        "        {\n",
        "            const int fst = tid * step_size * 2;\n",
        "            const int snd = fst + step_size;\n",
        "            printf(\"tid=%d fst=%d snd=%d|sum=%d\\\\n\", threadIdx.x, input[fst], input[snd], input[fst]+input[snd]);\n",
        "            input[fst] += input[snd];\n",
        "        }\n",
        "        step_size <<= 1;  //shift left operation doubles step size\n",
        "        number_of_threads >>= 1;  //half the number of threads\n",
        "    }\n",
        "}\n",
        "\n",
        "int main()\n",
        "{\n",
        "    const auto count = 8;\n",
        "    const int size = count * sizeof(int);\n",
        "    int h[] = {13, 27, 15, 14, 33, 2, 24, 6};   //input stored at host\n",
        "    for(int i = 0; i<count; i++)\n",
        "    {\n",
        "      printf(\"%d,\", h[i]);\n",
        "    }\n",
        "    printf(\"\\\\n\");\n",
        "    int* d;       //pointer stored at device\n",
        "\n",
        "    cudaMalloc(&d, size); //allocate d with size of array\n",
        "    cudaMemcpy(d, h, size, cudaMemcpyHostToDevice); //copy data from host to device\n",
        "\n",
        "    sum <<<1, count / 2 >>>(d); //call function with one block and count/2 threads\n",
        "\n",
        "    int result;\n",
        "    cudaMemcpy(&result, d, sizeof(int), cudaMemcpyDeviceToHost);  //copy result to host\n",
        "\n",
        "    //cout << \"Sum is \" << result << endl;\n",
        "\n",
        "    //free values\n",
        "    cudaFree(d);\n",
        "    return 0;\n",
        "}\n",
        "\"\"\"\n"
      ],
      "execution_count": 0,
      "outputs": []
    },
    {
      "cell_type": "code",
      "metadata": {
        "id": "9-sv3mWlWvd-",
        "colab_type": "code",
        "colab": {}
      },
      "source": [
        "text_file = open(\"code.cu\", \"w\")\n",
        "text_file.write(code)\n",
        "text_file.close()"
      ],
      "execution_count": 0,
      "outputs": []
    },
    {
      "cell_type": "code",
      "metadata": {
        "id": "TWGAyAbzXGQj",
        "colab_type": "code",
        "colab": {}
      },
      "source": [
        "!nvcc code.cu"
      ],
      "execution_count": 0,
      "outputs": []
    },
    {
      "cell_type": "code",
      "metadata": {
        "id": "dozKqOBWXSPI",
        "colab_type": "code",
        "outputId": "de563e5c-7667-472e-f73b-4a8f281d523d",
        "colab": {
          "base_uri": "https://localhost:8080/",
          "height": 153
        }
      },
      "source": [
        "!./a.out"
      ],
      "execution_count": 5,
      "outputs": [
        {
          "output_type": "stream",
          "text": [
            "13,27,15,14,33,2,24,6,\n",
            "tid=0 fst=13 snd=27|sum=40\n",
            "tid=1 fst=15 snd=14|sum=29\n",
            "tid=2 fst=33 snd=2|sum=35\n",
            "tid=3 fst=24 snd=6|sum=30\n",
            "tid=0 fst=40 snd=29|sum=69\n",
            "tid=1 fst=35 snd=30|sum=65\n",
            "tid=0 fst=69 snd=65|sum=134\n"
          ],
          "name": "stdout"
        }
      ]
    },
    {
      "cell_type": "code",
      "metadata": {
        "id": "y736gcd3bbht",
        "colab_type": "code",
        "outputId": "55eee52e-d1ed-4b35-b31f-81f9979ea10c",
        "colab": {
          "base_uri": "https://localhost:8080/",
          "height": 459
        }
      },
      "source": [
        "!nvprof ./a.out"
      ],
      "execution_count": 6,
      "outputs": [
        {
          "output_type": "stream",
          "text": [
            "13,27,15,14,33,2,24,6,\n",
            "==3714== NVPROF is profiling process 3714, command: ./a.out\n",
            "tid=0 fst=13 snd=27|sum=40\n",
            "tid=1 fst=15 snd=14|sum=29\n",
            "tid=2 fst=33 snd=2|sum=35\n",
            "tid=3 fst=24 snd=6|sum=30\n",
            "tid=0 fst=40 snd=29|sum=69\n",
            "tid=1 fst=35 snd=30|sum=65\n",
            "tid=0 fst=69 snd=65|sum=134\n",
            "==3714== Profiling application: ./a.out\n",
            "==3714== Profiling result:\n",
            "            Type  Time(%)      Time     Calls       Avg       Min       Max  Name\n",
            " GPU activities:   98.83%  455.10us         1  455.10us  455.10us  455.10us  sum(int*)\n",
            "                    0.65%  2.9760us         1  2.9760us  2.9760us  2.9760us  [CUDA memcpy DtoH]\n",
            "                    0.52%  2.4000us         1  2.4000us  2.4000us  2.4000us  [CUDA memcpy HtoD]\n",
            "      API calls:   98.37%  141.96ms         1  141.96ms  141.96ms  141.96ms  cudaMalloc\n",
            "                    0.52%  752.52us         1  752.52us  752.52us  752.52us  cudaLaunchKernel\n",
            "                    0.43%  625.77us         1  625.77us  625.77us  625.77us  cuDeviceTotalMem\n",
            "                    0.37%  531.49us         2  265.74us  26.903us  504.58us  cudaMemcpy\n",
            "                    0.20%  294.39us        96  3.0660us     150ns  131.56us  cuDeviceGetAttribute\n",
            "                    0.08%  111.33us         1  111.33us  111.33us  111.33us  cudaFree\n",
            "                    0.02%  31.917us         1  31.917us  31.917us  31.917us  cuDeviceGetName\n",
            "                    0.00%  3.2140us         1  3.2140us  3.2140us  3.2140us  cuDeviceGetPCIBusId\n",
            "                    0.00%  2.0260us         3     675ns     155ns  1.0210us  cuDeviceGetCount\n",
            "                    0.00%  1.3660us         2     683ns     279ns  1.0870us  cuDeviceGet\n",
            "                    0.00%     307ns         1     307ns     307ns     307ns  cuDeviceGetUuid\n"
          ],
          "name": "stdout"
        }
      ]
    }
  ]
}