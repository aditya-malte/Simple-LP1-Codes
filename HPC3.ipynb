{
  "nbformat": 4,
  "nbformat_minor": 0,
  "metadata": {
    "colab": {
      "name": "HPC3.ipynb",
      "provenance": [],
      "collapsed_sections": [],
      "include_colab_link": true
    },
    "kernelspec": {
      "name": "python3",
      "display_name": "Python 3"
    }
  },
  "cells": [
    {
      "cell_type": "markdown",
      "metadata": {
        "id": "view-in-github",
        "colab_type": "text"
      },
      "source": [
        "<a href=\"https://colab.research.google.com/github/aditya-malte/Simple-LP1-Codes/blob/master/HPC3.ipynb\" target=\"_parent\"><img src=\"https://colab.research.google.com/assets/colab-badge.svg\" alt=\"Open In Colab\"/></a>"
      ]
    },
    {
      "cell_type": "markdown",
      "metadata": {
        "id": "YcsR4VT5ldvA",
        "colab_type": "text"
      },
      "source": [
        "# Sorting using OpenMP\n",
        "1. Bubble sort\n",
        "2. Merge sort\n"
      ]
    },
    {
      "cell_type": "markdown",
      "metadata": {
        "id": "QG83fqWNsOz2",
        "colab_type": "text"
      },
      "source": [
        "##Select Runtime as GPU"
      ]
    },
    {
      "cell_type": "code",
      "metadata": {
        "id": "od_h5OFyWUOu",
        "colab_type": "code",
        "outputId": "915f7130-b1bc-4ba5-9305-9e1f76030cb7",
        "colab": {
          "base_uri": "https://localhost:8080/",
          "height": 85
        }
      },
      "source": [
        "!nvcc --version"
      ],
      "execution_count": 1,
      "outputs": [
        {
          "output_type": "stream",
          "text": [
            "nvcc: NVIDIA (R) Cuda compiler driver\n",
            "Copyright (c) 2005-2018 NVIDIA Corporation\n",
            "Built on Sat_Aug_25_21:08:01_CDT_2018\n",
            "Cuda compilation tools, release 10.0, V10.0.130\n"
          ],
          "name": "stdout"
        }
      ]
    },
    {
      "cell_type": "code",
      "metadata": {
        "id": "jvvfu1PvWX8p",
        "colab_type": "code",
        "colab": {}
      },
      "source": [
        "code = \"\"\"\n",
        "// OpenMP program to print Hello World \n",
        "// using C language \n",
        "  \n",
        "// OpenMP header \n",
        "#include <omp.h>   \n",
        "#include <stdio.h> \n",
        "#include <stdlib.h> \n",
        "  \n",
        "\n",
        "void p_merge_sort(int array[], int count)\n",
        "{\n",
        "\n",
        "}\n",
        "\n",
        "//p stands for parallel\n",
        "void p_bubble_sort(int array[], int count)\n",
        "{\n",
        "  omp_set_num_threads(count/2);\n",
        "  static int swap_flag=0;\n",
        "  do\n",
        "  {\n",
        "    swap_flag=0;\n",
        "    for(int i=0; i<(count-2); i++)\n",
        "    {\n",
        "  \n",
        "      if(i%2==0)  //if i is even\n",
        "      {\n",
        "        #pragma omp parallel for\n",
        "        for(int j=0; j<( (count/2) ); j++)\n",
        "        {\n",
        "          int temp;\n",
        "          if( array[2*j] > array[2*j+1])\n",
        "          {\n",
        "            //swap\n",
        "            temp = array[2*j];\n",
        "            array[2*j] = array[2*j+1];\n",
        "            array[2*j+1] = temp;\n",
        "            swap_flag=1;\n",
        "          }\n",
        "        }\n",
        "      }\n",
        "\n",
        "      else  //it is odd\n",
        "      {\n",
        "        #pragma omp parallel for\n",
        "        for(int j=0; j<( ((count-1)/2)); j++)\n",
        "        {\n",
        "          int temp;\n",
        "          if( array[2*j+1] > array[2*j+2])\n",
        "          {\n",
        "            //swap\n",
        "            temp = array[2*j+1];\n",
        "            array[2*j+1] = array[2*j+2];\n",
        "            array[2*j+2] = temp;\n",
        "            swap_flag=1;\n",
        "          }\n",
        "        }\n",
        "      }   \n",
        "\n",
        "    }\n",
        "  }while(swap_flag!=0);\n",
        "}\n",
        "\n",
        "\n",
        "int main(int argc, char* argv[]) \n",
        "{ \n",
        "  int size = 10;\n",
        "  int array[] = {3, 1, 6, 2, 1, 8, 5, 44, 2, 9};\n",
        "  \n",
        "  printf(\"Unsorted Array: \\\\n\");\n",
        "  for(int i=0; i<size; i++)\n",
        "    printf(\"%d, \", array[i]);\n",
        "  printf(\"\\\\n\"); \n",
        "\n",
        "  p_bubble_sort(array, size);\n",
        "\n",
        "  printf(\"Sorted Array: \\\\n\");\n",
        "  for(int i=0; i<size; i++)\n",
        "    printf(\"%d, \", array[i]);\n",
        "  printf(\"\\\\n\"); \n",
        "\n",
        "}\n",
        "\"\"\"\n"
      ],
      "execution_count": 0,
      "outputs": []
    },
    {
      "cell_type": "code",
      "metadata": {
        "id": "9-sv3mWlWvd-",
        "colab_type": "code",
        "colab": {}
      },
      "source": [
        "text_file = open(\"code.c\", \"w\")\n",
        "text_file.write(code)\n",
        "text_file.close()"
      ],
      "execution_count": 0,
      "outputs": []
    },
    {
      "cell_type": "code",
      "metadata": {
        "id": "GjnLgIQd7-gQ",
        "colab_type": "code",
        "colab": {}
      },
      "source": [
        "!gcc -fopenmp code.c"
      ],
      "execution_count": 0,
      "outputs": []
    },
    {
      "cell_type": "code",
      "metadata": {
        "id": "dozKqOBWXSPI",
        "colab_type": "code",
        "outputId": "8be427c9-c9b4-4fc1-a9a0-130ebc4e3d8f",
        "colab": {
          "base_uri": "https://localhost:8080/",
          "height": 85
        }
      },
      "source": [
        "!./a.out"
      ],
      "execution_count": 5,
      "outputs": [
        {
          "output_type": "stream",
          "text": [
            "Unsorted Array: \n",
            "3, 1, 6, 2, 1, 8, 5, 44, 2, 9, \n",
            "Sorted Array: \n",
            "1, 1, 2, 2, 3, 5, 6, 8, 9, 44, \n"
          ],
          "name": "stdout"
        }
      ]
    }
  ]
}